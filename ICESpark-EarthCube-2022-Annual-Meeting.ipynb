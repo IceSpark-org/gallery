{
 "cells": [
  {
   "cell_type": "markdown",
   "metadata": {},
   "source": [
    "# ICESpark-EarthCube-2022-Annual-Meeting\n",
    "\n",
    "ICESpark in Action: Analyzing Large-scale Arctic Observations Using an Open-source Big Data Platform\n"
   ]
  },
  {
   "cell_type": "markdown",
   "metadata": {},
   "source": [
    "## Authors\n",
    "\n",
    "* Author1 = {\"name\": \"Jia Yu\", \"affiliation\": \"Washington State University\", \"email\": \"jia.yu1@wsu.edu\"}\n",
    "* Author2 = {\"name\": \"Yiqun Xie\", \"affiliation\": \"University of Maryland\", \"email\": \"xie@umd.edu\"}\n",
    "* Author3 = {\"name\": \"Kyle Duncan\", \"affiliation\": \"University of Maryland\", \"email\": \"kduncan@umd.edu\"}\n",
    "* Author4 = {\"name\": \"Sinead Louise Farrell\", \"affiliation\": \"University of Maryland\", \"email\": \"sineadf@umd.edu\"}"
   ]
  },
  {
   "cell_type": "markdown",
   "metadata": {},
   "source": [
    "## Table of Contents\n",
    "\n",
    "1. [ICESpark-EarthCube-2022-Annual-Meeting](#ICESpark-EarthCube-2022-Annual-Meeting)\n",
    "2. [Setup](#Setup)\n",
    "3. [Data import](#Data-import)\n",
    "4. [Demo 1: Find the crossings between ICESat-2 orbits and SODA moorings ](#Demo-1:-Find-the-crossings-between-ICESat-2-orbits-and-SODA-moorings)\n",
    "5. [Demo 2:  Find the crossing between ICESat-2 orbits and Sentinel-2 and WorldView-3 images](#Demo-2:--Find-the-crossing-between-ICESat-2-orbits-and-Sentinel-2-and-WorldView-3-images)\n",
    "\n",
    "\n",
    "## Purpose\n",
    "\n",
    "The Arctic climate system is undergoing rapid change with rising air and sea surface temperatures, accompanied by declines in Arctic glacial ice and sea ice as well as loss of snow cover on land. The combined increase in global air temperature and ice-sheet mass loss is driving sea level rise around the globe. As the Arctic region is largely inaccessible to traditional observation techniques, satellite remote sensing systems play a key role in monitoring the essential climate variables. However, the unprecedented volume and variety of geospatial big data collected by new satellite sensors have reached far beyond the capacity of computing platforms accessible to most geoscientists. ICESpark is an open-source distributed platform that can combine local commodity computers into a powerful environment that is ready for geospatial big data (GeoBD). Built on Apache Sedona, ICESpark comprises a set of off-the-shelf data integration tools and analytical functions to make sense of large-scale arctic observations.\n",
    "\n",
    "## Technical contributions\n",
    "\n",
    "We plan to demonstrate ICESpark through a Python Jupyter notebook running on top of a cluster of commodity computers to let the audience experience the scalability and interactivity provided by the tool. In this notebook, we demonstrate three case studies to illustrate how ICESpark may help geoscientists quickly find temporally and/or spatially coincident data across heterogenous arctic observation data. This task is typically required to validate the accuracy of new remote sensing data products, or for cross comparison of complementary polar climate variables.\n",
    "\n",
    "## Results\n",
    "\n",
    "\n",
    "* The first case study includes Stratified Ocean Dynamics of the Arctic (SODA) moorings and ICESat-2 reference ground tracks (RGTs), where the goal is to find all ICESat-2 orbits falling within a 50 km search radius around the mooring sites.\n",
    "* The second case study integrates Sentinel-2 and WorldView-3 imagery to discover the spatial overlaps between ICESat-2 RGTs and tiles from these high-resolution imagery datasets.\n",
    "* The last case study compares the aforementioned lCESat 2 orbits (RGTs) against the MOSAiC expedition cruise master track data. The goal of this study is to find the spatio-temporal overalps between ICESat-Z orbits and a 50KM search radius around each reported cruise location.\n",
    "\n",
    "\n",
    "## Funding\n",
    "\n",
    "* Award1 = {\"agency\": \"US National Science Foundation\", \"award_code\": \"2126449\", \"award_URL\": \"https://www.nsf.gov/awardsearch/showAward?AWD_ID=2126449&HistoricalAwards=false\"}\n",
    "\n",
    "* Award2 = {\"agency\": \"US National Science Foundation\", \"award_code\": \"2126474\", \"award_URL\": \"https://www.nsf.gov/awardsearch/showAward?AWD_ID=2126474&HistoricalAwards=false\"}\n",
    "\n",
    "\n",
    "## Keywords\n",
    "\n",
    "keywords=[\"arctic observation\", \"big data\", \"cluster computing\"]\n"
   ]
  },
  {
   "cell_type": "markdown",
   "metadata": {},
   "source": [
    "# Setup\n",
    "\n",
    "## Library import"
   ]
  },
  {
   "cell_type": "code",
   "execution_count": 132,
   "metadata": {
    "scrolled": true
   },
   "outputs": [],
   "source": [
    "## Import local library\n",
    "import os\n",
    "\n",
    "## Import GeoPandas\n",
    "import geopandas as gpd\n",
    "\n",
    "## Import PySpark\n",
    "from pyspark.sql import SparkSession\n",
    "from pyspark.sql.types import *\n",
    "from pyspark.sql.functions import col\n",
    "\n",
    "## Import Apache Sedona\n",
    "from sedona.register import SedonaRegistrator\n",
    "from sedona.utils import SedonaKryoRegistrator, KryoSerializer\n",
    "from sedona.core.formatMapper.shapefileParser import ShapefileReader\n",
    "from sedona.utils.adapter import Adapter"
   ]
  },
  {
   "cell_type": "markdown",
   "metadata": {},
   "source": [
    "## Initialize the cluster environment"
   ]
  },
  {
   "cell_type": "code",
   "execution_count": 133,
   "metadata": {
    "scrolled": true
   },
   "outputs": [],
   "source": [
    "spark = SparkSession. \\\n",
    "    builder. \\\n",
    "    appName('appName'). \\\n",
    "    master('local[*]'). \\\n",
    "    config(\"spark.serializer\", KryoSerializer.getName). \\\n",
    "    config(\"spark.kryo.registrator\", SedonaKryoRegistrator.getName). \\\n",
    "    config('spark.jars.packages',\n",
    "           'org.apache.sedona:sedona-python-adapter-3.0_2.12:1.2.0-incubating,org.datasyslab:geotools-wrapper:1.1.0-25.2'). \\\n",
    "    getOrCreate()"
   ]
  },
  {
   "cell_type": "markdown",
   "metadata": {},
   "source": [
    "## Register geospatial data support"
   ]
  },
  {
   "cell_type": "code",
   "execution_count": 134,
   "metadata": {
    "scrolled": true
   },
   "outputs": [
    {
     "name": "stderr",
     "output_type": "stream",
     "text": [
      "22/04/20 18:13:24 WARN UDTRegistration: Cannot register UDT for org.locationtech.jts.geom.Geometry, which is already registered.\n",
      "22/04/20 18:13:24 WARN UDTRegistration: Cannot register UDT for org.locationtech.jts.index.SpatialIndex, which is already registered.\n",
      "22/04/20 18:13:24 WARN SimpleFunctionRegistry: The function st_pointfromtext replaced a previously registered function.\n",
      "22/04/20 18:13:24 WARN SimpleFunctionRegistry: The function st_polygonfromtext replaced a previously registered function.\n",
      "22/04/20 18:13:24 WARN SimpleFunctionRegistry: The function st_linestringfromtext replaced a previously registered function.\n",
      "22/04/20 18:13:24 WARN SimpleFunctionRegistry: The function st_geomfromtext replaced a previously registered function.\n",
      "22/04/20 18:13:24 WARN SimpleFunctionRegistry: The function st_geomfromwkt replaced a previously registered function.\n",
      "22/04/20 18:13:24 WARN SimpleFunctionRegistry: The function st_geomfromwkb replaced a previously registered function.\n",
      "22/04/20 18:13:24 WARN SimpleFunctionRegistry: The function st_geomfromgeojson replaced a previously registered function.\n",
      "22/04/20 18:13:24 WARN SimpleFunctionRegistry: The function st_point replaced a previously registered function.\n",
      "22/04/20 18:13:24 WARN SimpleFunctionRegistry: The function st_polygonfromenvelope replaced a previously registered function.\n",
      "22/04/20 18:13:24 WARN SimpleFunctionRegistry: The function st_contains replaced a previously registered function.\n",
      "22/04/20 18:13:24 WARN SimpleFunctionRegistry: The function st_intersects replaced a previously registered function.\n",
      "22/04/20 18:13:24 WARN SimpleFunctionRegistry: The function st_within replaced a previously registered function.\n",
      "22/04/20 18:13:24 WARN SimpleFunctionRegistry: The function st_distance replaced a previously registered function.\n",
      "22/04/20 18:13:24 WARN SimpleFunctionRegistry: The function st_3ddistance replaced a previously registered function.\n",
      "22/04/20 18:13:24 WARN SimpleFunctionRegistry: The function st_convexhull replaced a previously registered function.\n",
      "22/04/20 18:13:24 WARN SimpleFunctionRegistry: The function st_npoints replaced a previously registered function.\n",
      "22/04/20 18:13:24 WARN SimpleFunctionRegistry: The function st_buffer replaced a previously registered function.\n",
      "22/04/20 18:13:24 WARN SimpleFunctionRegistry: The function st_envelope replaced a previously registered function.\n",
      "22/04/20 18:13:24 WARN SimpleFunctionRegistry: The function st_length replaced a previously registered function.\n",
      "22/04/20 18:13:24 WARN SimpleFunctionRegistry: The function st_area replaced a previously registered function.\n",
      "22/04/20 18:13:24 WARN SimpleFunctionRegistry: The function st_centroid replaced a previously registered function.\n",
      "22/04/20 18:13:24 WARN SimpleFunctionRegistry: The function st_transform replaced a previously registered function.\n",
      "22/04/20 18:13:24 WARN SimpleFunctionRegistry: The function st_intersection replaced a previously registered function.\n",
      "22/04/20 18:13:24 WARN SimpleFunctionRegistry: The function st_difference replaced a previously registered function.\n",
      "22/04/20 18:13:24 WARN SimpleFunctionRegistry: The function st_symdifference replaced a previously registered function.\n",
      "22/04/20 18:13:24 WARN SimpleFunctionRegistry: The function st_union replaced a previously registered function.\n",
      "22/04/20 18:13:24 WARN SimpleFunctionRegistry: The function st_isvalid replaced a previously registered function.\n",
      "22/04/20 18:13:24 WARN SimpleFunctionRegistry: The function st_precisionreduce replaced a previously registered function.\n",
      "22/04/20 18:13:24 WARN SimpleFunctionRegistry: The function st_equals replaced a previously registered function.\n",
      "22/04/20 18:13:24 WARN SimpleFunctionRegistry: The function st_touches replaced a previously registered function.\n",
      "22/04/20 18:13:24 WARN SimpleFunctionRegistry: The function st_overlaps replaced a previously registered function.\n",
      "22/04/20 18:13:24 WARN SimpleFunctionRegistry: The function st_crosses replaced a previously registered function.\n",
      "22/04/20 18:13:24 WARN SimpleFunctionRegistry: The function st_issimple replaced a previously registered function.\n",
      "22/04/20 18:13:24 WARN SimpleFunctionRegistry: The function st_makevalid replaced a previously registered function.\n",
      "22/04/20 18:13:24 WARN SimpleFunctionRegistry: The function st_simplifypreservetopology replaced a previously registered function.\n",
      "22/04/20 18:13:24 WARN SimpleFunctionRegistry: The function st_astext replaced a previously registered function.\n",
      "22/04/20 18:13:24 WARN SimpleFunctionRegistry: The function st_asgeojson replaced a previously registered function.\n",
      "22/04/20 18:13:24 WARN SimpleFunctionRegistry: The function st_asbinary replaced a previously registered function.\n",
      "22/04/20 18:13:24 WARN SimpleFunctionRegistry: The function st_asewkb replaced a previously registered function.\n",
      "22/04/20 18:13:24 WARN SimpleFunctionRegistry: The function st_srid replaced a previously registered function.\n",
      "22/04/20 18:13:24 WARN SimpleFunctionRegistry: The function st_setsrid replaced a previously registered function.\n",
      "22/04/20 18:13:24 WARN SimpleFunctionRegistry: The function st_geometrytype replaced a previously registered function.\n",
      "22/04/20 18:13:24 WARN SimpleFunctionRegistry: The function st_numgeometries replaced a previously registered function.\n",
      "22/04/20 18:13:24 WARN SimpleFunctionRegistry: The function st_linemerge replaced a previously registered function.\n",
      "22/04/20 18:13:24 WARN SimpleFunctionRegistry: The function st_azimuth replaced a previously registered function.\n",
      "22/04/20 18:13:24 WARN SimpleFunctionRegistry: The function st_x replaced a previously registered function.\n",
      "22/04/20 18:13:24 WARN SimpleFunctionRegistry: The function st_y replaced a previously registered function.\n",
      "22/04/20 18:13:24 WARN SimpleFunctionRegistry: The function st_z replaced a previously registered function.\n",
      "22/04/20 18:13:24 WARN SimpleFunctionRegistry: The function st_startpoint replaced a previously registered function.\n",
      "22/04/20 18:13:24 WARN SimpleFunctionRegistry: The function st_boundary replaced a previously registered function.\n",
      "22/04/20 18:13:24 WARN SimpleFunctionRegistry: The function st_minimumboundingradius replaced a previously registered function.\n",
      "22/04/20 18:13:24 WARN SimpleFunctionRegistry: The function st_minimumboundingcircle replaced a previously registered function.\n",
      "22/04/20 18:13:24 WARN SimpleFunctionRegistry: The function st_endpoint replaced a previously registered function.\n",
      "22/04/20 18:13:24 WARN SimpleFunctionRegistry: The function st_exteriorring replaced a previously registered function.\n",
      "22/04/20 18:13:24 WARN SimpleFunctionRegistry: The function st_geometryn replaced a previously registered function.\n",
      "22/04/20 18:13:24 WARN SimpleFunctionRegistry: The function st_interiorringn replaced a previously registered function.\n",
      "22/04/20 18:13:24 WARN SimpleFunctionRegistry: The function st_dump replaced a previously registered function.\n",
      "22/04/20 18:13:24 WARN SimpleFunctionRegistry: The function st_dumppoints replaced a previously registered function.\n",
      "22/04/20 18:13:24 WARN SimpleFunctionRegistry: The function st_isclosed replaced a previously registered function.\n",
      "22/04/20 18:13:24 WARN SimpleFunctionRegistry: The function st_numinteriorrings replaced a previously registered function.\n",
      "22/04/20 18:13:24 WARN SimpleFunctionRegistry: The function st_addpoint replaced a previously registered function.\n",
      "22/04/20 18:13:24 WARN SimpleFunctionRegistry: The function st_removepoint replaced a previously registered function.\n",
      "22/04/20 18:13:24 WARN SimpleFunctionRegistry: The function st_isring replaced a previously registered function.\n",
      "22/04/20 18:13:24 WARN SimpleFunctionRegistry: The function st_flipcoordinates replaced a previously registered function.\n",
      "22/04/20 18:13:24 WARN SimpleFunctionRegistry: The function st_linesubstring replaced a previously registered function.\n",
      "22/04/20 18:13:24 WARN SimpleFunctionRegistry: The function st_lineinterpolatepoint replaced a previously registered function.\n",
      "22/04/20 18:13:24 WARN SimpleFunctionRegistry: The function st_subdivideexplode replaced a previously registered function.\n",
      "22/04/20 18:13:24 WARN SimpleFunctionRegistry: The function st_subdivide replaced a previously registered function.\n",
      "22/04/20 18:13:24 WARN SimpleFunctionRegistry: The function st_makepolygon replaced a previously registered function.\n",
      "22/04/20 18:13:24 WARN SimpleFunctionRegistry: The function st_geohash replaced a previously registered function.\n",
      "22/04/20 18:13:24 WARN SimpleFunctionRegistry: The function st_geomfromgeohash replaced a previously registered function.\n",
      "22/04/20 18:13:24 WARN SimpleFunctionRegistry: The function st_collect replaced a previously registered function.\n",
      "22/04/20 18:13:24 WARN SimpleFunctionRegistry: The function st_multi replaced a previously registered function.\n",
      "22/04/20 18:13:24 WARN SimpleFunctionRegistry: The function rs_normalizeddifference replaced a previously registered function.\n",
      "22/04/20 18:13:24 WARN SimpleFunctionRegistry: The function rs_mean replaced a previously registered function.\n",
      "22/04/20 18:13:24 WARN SimpleFunctionRegistry: The function rs_mode replaced a previously registered function.\n",
      "22/04/20 18:13:24 WARN SimpleFunctionRegistry: The function rs_fetchregion replaced a previously registered function.\n",
      "22/04/20 18:13:24 WARN SimpleFunctionRegistry: The function rs_greaterthan replaced a previously registered function.\n",
      "22/04/20 18:13:24 WARN SimpleFunctionRegistry: The function rs_greaterthanequal replaced a previously registered function.\n",
      "22/04/20 18:13:24 WARN SimpleFunctionRegistry: The function rs_lessthan replaced a previously registered function.\n",
      "22/04/20 18:13:24 WARN SimpleFunctionRegistry: The function rs_lessthanequal replaced a previously registered function.\n",
      "22/04/20 18:13:24 WARN SimpleFunctionRegistry: The function rs_addbands replaced a previously registered function.\n",
      "22/04/20 18:13:24 WARN SimpleFunctionRegistry: The function rs_subtractbands replaced a previously registered function.\n",
      "22/04/20 18:13:24 WARN SimpleFunctionRegistry: The function rs_dividebands replaced a previously registered function.\n",
      "22/04/20 18:13:24 WARN SimpleFunctionRegistry: The function rs_multiplyfactor replaced a previously registered function.\n",
      "22/04/20 18:13:24 WARN SimpleFunctionRegistry: The function rs_multiplybands replaced a previously registered function.\n",
      "22/04/20 18:13:24 WARN SimpleFunctionRegistry: The function rs_bitwiseand replaced a previously registered function.\n",
      "22/04/20 18:13:24 WARN SimpleFunctionRegistry: The function rs_bitwiseor replaced a previously registered function.\n",
      "22/04/20 18:13:24 WARN SimpleFunctionRegistry: The function rs_count replaced a previously registered function.\n",
      "22/04/20 18:13:24 WARN SimpleFunctionRegistry: The function rs_modulo replaced a previously registered function.\n",
      "22/04/20 18:13:24 WARN SimpleFunctionRegistry: The function rs_getband replaced a previously registered function.\n",
      "22/04/20 18:13:24 WARN SimpleFunctionRegistry: The function rs_squareroot replaced a previously registered function.\n",
      "22/04/20 18:13:24 WARN SimpleFunctionRegistry: The function rs_logicaldifference replaced a previously registered function.\n",
      "22/04/20 18:13:24 WARN SimpleFunctionRegistry: The function rs_logicalover replaced a previously registered function.\n",
      "22/04/20 18:13:24 WARN SimpleFunctionRegistry: The function rs_base64 replaced a previously registered function.\n",
      "22/04/20 18:13:24 WARN SimpleFunctionRegistry: The function rs_html replaced a previously registered function.\n",
      "22/04/20 18:13:24 WARN SimpleFunctionRegistry: The function rs_array replaced a previously registered function.\n",
      "22/04/20 18:13:24 WARN SimpleFunctionRegistry: The function rs_normalize replaced a previously registered function.\n",
      "22/04/20 18:13:24 WARN SimpleFunctionRegistry: The function st_union_aggr replaced a previously registered function.\n",
      "22/04/20 18:13:24 WARN SimpleFunctionRegistry: The function st_envelope_aggr replaced a previously registered function.\n",
      "22/04/20 18:13:24 WARN SimpleFunctionRegistry: The function st_intersection_aggr replaced a previously registered function.\n"
     ]
    }
   ],
   "source": [
    "SedonaRegistrator.registerAll(spark)\n",
    "sc = spark.sparkContext\n",
    "sc.setSystemProperty(\"sedona.global.charset\", \"utf8\")"
   ]
  },
  {
   "cell_type": "markdown",
   "metadata": {},
   "source": [
    "# Data import\n",
    "\n",
    "## Load ICE_SAT2 orbits into Spark\n",
    "Files are originally in KML. They are converted to a single WKT file using GDAL ogr2ogr command.\n",
    "\n",
    "The converted dataset contains 13704 orbits and has 2.6GB in size. The notebook only takes a sample of 499 orbits because of the limited resource provided in Binder environment. In addition, GitHub only allows max 100MB per file.\n",
    "\n",
    "Filename example: IS2_RGT_0702_cycle3_14-May-2019.kml.csv"
   ]
  },
  {
   "cell_type": "code",
   "execution_count": 135,
   "metadata": {
    "scrolled": true
   },
   "outputs": [],
   "source": [
    "spark.read.format(\"csv\").\\\n",
    "    option(\"delimiter\", \",\").\\\n",
    "    option(\"header\", \"true\").\\\n",
    "    load(\"data/IS2_RGTs_aggr_data_timestamp-head500.csv\").repartition(10).\\\n",
    "    createOrReplaceTempView(\"is2_df_raw\")\n"
   ]
  },
  {
   "cell_type": "markdown",
   "metadata": {},
   "source": [
    "## Create DataFrame with a Geometry column"
   ]
  },
  {
   "cell_type": "code",
   "execution_count": 136,
   "metadata": {
    "scrolled": true
   },
   "outputs": [
    {
     "name": "stdout",
     "output_type": "stream",
     "text": [
      "+--------------------+-----+-------------+----------+-------+----------+--------------------+\n",
      "|               orbit| Name| altitudeMode|tessellate|extrude|visibility|            filename|\n",
      "+--------------------+-----+-------------+----------+-------+----------+--------------------+\n",
      "|LINESTRING (0.056...|RGT 3|clampToGround|        -1|      0|         1|IS2_RGT_0003_cycl...|\n",
      "|LINESTRING (0.027...|RGT 1|clampToGround|        -1|      0|         1|IS2_RGT_0001_cycl...|\n",
      "+--------------------+-----+-------------+----------+-------+----------+--------------------+\n",
      "only showing top 2 rows\n",
      "\n",
      "+----------------------------------------+\n",
      "|filename                                |\n",
      "+----------------------------------------+\n",
      "|IS2_RGT_0003_cycle6_26-Dec-2019.kml.csv |\n",
      "|IS2_RGT_0001_cycle5_26-Sep-2019.kml.csv |\n",
      "|IS2_RGT_0006_cycle10_24-Dec-2020.kml.csv|\n",
      "|IS2_RGT_0004_cycle5_27-Sep-2019.kml.csv |\n",
      "|IS2_RGT_0003_cycle7_26-Mar-2020.kml.csv |\n",
      "|IS2_RGT_0007_cycle7_26-Mar-2020.kml.csv |\n",
      "|IS2_RGT_0008_cycle11_25-Mar-2021.kml.csv|\n",
      "|IS2_RGT_0006_cycle3_29-Mar-2019.kml.csv |\n",
      "|IS2_RGT_0009_cycle5_27-Sep-2019.kml.csv |\n",
      "|IS2_RGT_0010_cycle8_26-Jun-2020.kml.csv |\n",
      "|IS2_RGT_0010_cycle3_29-Mar-2019.kml.csv |\n",
      "|IS2_RGT_0011_cycle6_27-Dec-2019.kml.csv |\n",
      "|IS2_RGT_0011_cycle5_27-Sep-2019.kml.csv |\n",
      "|IS2_RGT_0014_cycle10_24-Dec-2020.kml.csv|\n",
      "|IS2_RGT_0014_cycle7_27-Mar-2020.kml.csv |\n",
      "|IS2_RGT_0016_cycle6_27-Dec-2019.kml.csv |\n",
      "|IS2_RGT_0018_cycle2_29-Dec-2018.kml.csv |\n",
      "|IS2_RGT_0018_cycle5_28-Sep-2019.kml.csv |\n",
      "|IS2_RGT_0020_cycle2_29-Dec-2018.kml.csv |\n",
      "|IS2_RGT_0019_cycle5_28-Sep-2019.kml.csv |\n",
      "|IS2_RGT_0019_cycle3_30-Mar-2019.kml.csv |\n",
      "|IS2_RGT_0024_cycle11_26-Mar-2021.kml.csv|\n",
      "|IS2_RGT_0023_cycle2_29-Dec-2018.kml.csv |\n",
      "|IS2_RGT_0024_cycle3_30-Mar-2019.kml.csv |\n",
      "|IS2_RGT_0026_cycle11_26-Mar-2021.kml.csv|\n",
      "|IS2_RGT_0026_cycle8_27-Jun-2020.kml.csv |\n",
      "|IS2_RGT_0024_cycle6_28-Dec-2019.kml.csv |\n",
      "|IS2_RGT_0028_cycle9_26-Sep-2020.kml.csv |\n",
      "|IS2_RGT_0028_cycle7_28-Mar-2020.kml.csv |\n",
      "|IS2_RGT_0031_cycle11_26-Mar-2021.kml.csv|\n",
      "|IS2_RGT_0029_cycle8_27-Jun-2020.kml.csv |\n",
      "|IS2_RGT_0030_cycle7_28-Mar-2020.kml.csv |\n",
      "|IS2_RGT_0033_cycle10_26-Dec-2020.kml.csv|\n",
      "|IS2_RGT_0033_cycle5_29-Sep-2019.kml.csv |\n",
      "|IS2_RGT_0034_cycle2_30-Dec-2018.kml.csv |\n",
      "|IS2_RGT_0035_cycle8_27-Jun-2020.kml.csv |\n",
      "|IS2_RGT_0037_cycle3_31-Mar-2019.kml.csv |\n",
      "|IS2_RGT_0039_cycle6_29-Dec-2019.kml.csv |\n",
      "|IS2_RGT_0037_cycle7_28-Mar-2020.kml.csv |\n",
      "|IS2_RGT_0038_cycle7_29-Mar-2020.kml.csv |\n",
      "|IS2_RGT_0042_cycle10_26-Dec-2020.kml.csv|\n",
      "|IS2_RGT_0041_31-Dec-2018.kml.csv        |\n",
      "|IS2_RGT_0043_cycle10_26-Dec-2020.kml.csv|\n",
      "|IS2_RGT_0043_cycle7_29-Mar-2020.kml.csv |\n",
      "|IS2_RGT_0047_cycle3_01-Apr-2019.kml.csv |\n",
      "|IS2_RGT_0046_cycle7_29-Mar-2020.kml.csv |\n",
      "|IS2_RGT_0047_cycle11_27-Mar-2021.kml.csv|\n",
      "|IS2_RGT_0049_cycle11_28-Mar-2021.kml.csv|\n",
      "|IS2_RGT_0049_cycle9_27-Sep-2020.kml.csv |\n",
      "|IS2_RGT_0003_cycle11_25-Mar-2021.kml.csv|\n",
      "|IS2_RGT_0001_cycle8_25-Jun-2020.kml.csv |\n",
      "|IS2_RGT_0003_28-Dec-2018.kml.csv        |\n",
      "|IS2_RGT_0005_cycle10_24-Dec-2020.kml.csv|\n",
      "|IS2_RGT_0004_cycle9_24-Sep-2020.kml.csv |\n",
      "|IS2_RGT_0004_28-Dec-2018.kml.csv        |\n",
      "|IS2_RGT_0007_cycle2_28-Dec-2018.kml.csv |\n",
      "|IS2_RGT_0007_cycle9_24-Sep-2020.kml.csv |\n",
      "|IS2_RGT_0007_cycle11_25-Mar-2021.kml.csv|\n",
      "|IS2_RGT_0009_cycle11_25-Mar-2021.kml.csv|\n",
      "|IS2_RGT_0011_cycle2_29-Dec-2018.kml.csv |\n",
      "|IS2_RGT_0012_cycle2_29-Dec-2018.kml.csv |\n",
      "|IS2_RGT_0012_cycle9_24-Sep-2020.kml.csv |\n",
      "|IS2_RGT_0015_cycle8_26-Jun-2020.kml.csv |\n",
      "|IS2_RGT_0015_cycle6_27-Dec-2019.kml.csv |\n",
      "|IS2_RGT_0016_cycle2_29-Dec-2018.kml.csv |\n",
      "|IS2_RGT_0017_cycle7_27-Mar-2020.kml.csv |\n",
      "|IS2_RGT_0018_cycle11_25-Mar-2021.kml.csv|\n",
      "|IS2_RGT_0021_cycle10_25-Dec-2020.kml.csv|\n",
      "|IS2_RGT_0021_29-Dec-2018.kml.csv        |\n",
      "|IS2_RGT_0019_cycle6_27-Dec-2019.kml.csv |\n",
      "|IS2_RGT_0022_cycle10_25-Dec-2020.kml.csv|\n",
      "|IS2_RGT_0023_cycle8_26-Jun-2020.kml.csv |\n",
      "|IS2_RGT_0025_cycle3_30-Mar-2019.kml.csv |\n",
      "|IS2_RGT_0025_cycle6_28-Dec-2019.kml.csv |\n",
      "|IS2_RGT_0026_cycle2_30-Dec-2018.kml.csv |\n",
      "|IS2_RGT_0028_cycle10_25-Dec-2020.kml.csv|\n",
      "|IS2_RGT_0028_cycle3_31-Mar-2019.kml.csv |\n",
      "|IS2_RGT_0030_cycle2_30-Dec-2018.kml.csv |\n",
      "|IS2_RGT_0031_cycle3_31-Mar-2019.kml.csv |\n",
      "|IS2_RGT_0031_cycle5_28-Sep-2019.kml.csv |\n",
      "|IS2_RGT_0033_cycle8_27-Jun-2020.kml.csv |\n",
      "|IS2_RGT_0033_30-Dec-2018.kml.csv        |\n",
      "|IS2_RGT_0034_cycle6_28-Dec-2019.kml.csv |\n",
      "|IS2_RGT_0035_cycle7_28-Mar-2020.kml.csv |\n",
      "|IS2_RGT_0035_cycle11_27-Mar-2021.kml.csv|\n",
      "|IS2_RGT_0039_cycle9_26-Sep-2020.kml.csv |\n",
      "|IS2_RGT_0038_cycle9_26-Sep-2020.kml.csv |\n",
      "|IS2_RGT_0037_cycle9_26-Sep-2020.kml.csv |\n",
      "|IS2_RGT_0041_cycle5_29-Sep-2019.kml.csv |\n",
      "|IS2_RGT_0041_cycle11_27-Mar-2021.kml.csv|\n",
      "|IS2_RGT_0044_cycle10_26-Dec-2020.kml.csv|\n",
      "|IS2_RGT_0045_cycle10_26-Dec-2020.kml.csv|\n",
      "|IS2_RGT_0045_cycle5_29-Sep-2019.kml.csv |\n",
      "|IS2_RGT_0045_cycle2_31-Dec-2018.kml.csv |\n",
      "|IS2_RGT_0046_cycle5_29-Sep-2019.kml.csv |\n",
      "|IS2_RGT_0050_cycle11_28-Mar-2021.kml.csv|\n",
      "|IS2_RGT_0050_cycle2_31-Dec-2018.kml.csv |\n",
      "|IS2_RGT_0048_cycle5_30-Sep-2019.kml.csv |\n",
      "|IS2_RGT_0001_28-Dec-2018.kml.csv        |\n",
      "|IS2_RGT_0002_cycle7_26-Mar-2020.kml.csv |\n",
      "+----------------------------------------+\n",
      "only showing top 100 rows\n",
      "\n",
      "499\n"
     ]
    },
    {
     "name": "stderr",
     "output_type": "stream",
     "text": [
      "22/04/20 18:13:24 WARN CacheManager: Asked to cache already cached data.\n"
     ]
    }
   ],
   "source": [
    "spark.sql(\"select ST_FlipCoordinates(ST_GeomFromWKT(WKT)) as orbit, Name, altitudeMode, tessellate, extrude, visibility, filename from is2_df_raw\").\\\n",
    "    cache().\\\n",
    "    createOrReplaceTempView(\"is2_df\")\n",
    "\n",
    "## Show the schema of the table\n",
    "spark.table(\"is2_df\").show(2)\n",
    "\n",
    "## Show the names of the orbits\n",
    "spark.table(\"is2_df\").select(\"filename\").show(100, truncate = False)\n",
    "\n",
    "## Print the count. The total count should be 499\n",
    "print(spark.table(\"is2_df\").count())"
   ]
  },
  {
   "cell_type": "markdown",
   "metadata": {},
   "source": [
    "## Read a country shapefile as the base map, for visualization purpose"
   ]
  },
  {
   "cell_type": "code",
   "execution_count": 137,
   "metadata": {
    "scrolled": true
   },
   "outputs": [
    {
     "name": "stdout",
     "output_type": "stream",
     "text": [
      "+--------------------+--------------------+\n",
      "|            geometry|             NAME_EN|\n",
      "+--------------------+--------------------+\n",
      "|MULTIPOLYGON (((3...|Zimbabwe         ...|\n",
      "|MULTIPOLYGON (((3...|Zambia           ...|\n",
      "+--------------------+--------------------+\n",
      "only showing top 2 rows\n",
      "\n"
     ]
    }
   ],
   "source": [
    "countries = ShapefileReader.readToGeometryRDD(sc, \"data/ne_50m_admin_0_countries_lakes\")\n",
    "countries_df = Adapter.toDf(countries, spark).select(\"geometry\", \"NAME_EN\")\n",
    "countries_df.show(2)"
   ]
  },
  {
   "cell_type": "markdown",
   "metadata": {},
   "source": [
    "# Demo 1: Find the crossings between ICESat-2 orbits and SODA moorings \n",
    "\n",
    "We have 3 Stratified Ocean Dynamics of the Arctic (SODA) moorings sites at the following locations:\n",
    "\n",
    "\n",
    "SODA-A: (73.00043, -148.33627)\n",
    "\n",
    "SODA-B: (75.46388, -145.63685)\n",
    "\n",
    "SODA-C: (77.73677, -139.14153)"
   ]
  },
  {
   "cell_type": "markdown",
   "metadata": {},
   "source": [
    "## Find the crossings around three SODA objects, each of which has a 100KM buffer area, using ST_Buffer\n",
    "\n",
    "IceSat2 data needs to be converted from WGS84 (epsg:4326) CRS to meter-based epsg:4087 (WGS 84 / World Equidistant Cylindrical) using Sedona's ST_Transform"
   ]
  },
  {
   "cell_type": "code",
   "execution_count": 138,
   "metadata": {
    "scrolled": false
   },
   "outputs": [
    {
     "name": "stdout",
     "output_type": "stream",
     "text": [
      "+--------------------+------+-------------+----------+-------+----------+--------------------+\n",
      "|               orbit|  Name| altitudeMode|tessellate|extrude|visibility|            filename|\n",
      "+--------------------+------+-------------+----------+-------+----------+--------------------+\n",
      "|LINESTRING (0.025...|RGT 22|clampToGround|        -1|      0|         1|IS2_RGT_0022_cycl...|\n",
      "|LINESTRING (0.025...|RGT 22|clampToGround|        -1|      0|         1|IS2_RGT_0022_cycl...|\n",
      "+--------------------+------+-------------+----------+-------+----------+--------------------+\n",
      "only showing top 2 rows\n",
      "\n",
      "SODA-A crosses:  10\n",
      "SODA-B crosses:  0\n",
      "SODA-C crosses:  10\n"
     ]
    }
   ],
   "source": [
    "result_df1 = spark.sql('SELECT * '\n",
    "                     'FROM is2_df '\n",
    "                     'WHERE ST_Intersects(ST_Buffer(ST_Transform(ST_POINT (73.00043,-148.33627), \\'epsg:4326\\',\\'epsg:4087\\'), 100000), ST_Transform(orbit, \\'epsg:4326\\',\\'epsg:4087\\'))')\n",
    "result_df1.show(2)\n",
    "print('SODA-A crosses: ', result_df1.count())\n",
    "\n",
    "result_df2 = spark.sql('SELECT * '\n",
    "                     'FROM is2_df '\n",
    "                     'WHERE ST_Intersects(ST_Buffer(ST_Transform(ST_POINT (75.46388,-145.63685), \\'epsg:4326\\',\\'epsg:4087\\'), 100000), ST_Transform(orbit, \\'epsg:4326\\',\\'epsg:4087\\'))')\n",
    "print('SODA-B crosses: ', result_df2.count())\n",
    "\n",
    "result_df3 = spark.sql('SELECT * '\n",
    "                     'FROM is2_df '\n",
    "                     'WHERE ST_Intersects(ST_Buffer(ST_Transform(ST_POINT (77.73677, -139.14153), \\'epsg:4326\\',\\'epsg:4087\\'), 100000), ST_Transform(orbit, \\'epsg:4326\\',\\'epsg:4087\\'))')\n",
    "print('SODA-C crosses: ', result_df3.count())\n"
   ]
  },
  {
   "cell_type": "markdown",
   "metadata": {},
   "source": [
    "## Find orbits in Year 2019 in the SODA-C result"
   ]
  },
  {
   "cell_type": "code",
   "execution_count": 139,
   "metadata": {
    "scrolled": false
   },
   "outputs": [
    {
     "name": "stdout",
     "output_type": "stream",
     "text": [
      "+---------------------------------------+\n",
      "|filename                               |\n",
      "+---------------------------------------+\n",
      "|IS2_RGT_0008_cycle3_29-Mar-2019.kml.csv|\n",
      "|IS2_RGT_0008_cycle5_27-Sep-2019.kml.csv|\n",
      "|IS2_RGT_0008_cycle6_27-Dec-2019.kml.csv|\n",
      "+---------------------------------------+\n",
      "\n"
     ]
    }
   ],
   "source": [
    "result_df3_sorted = result_df3.filter(\"filename LIKE \\'%2019%\\'\").sort(col('filename').asc())\n",
    "result_df3_sorted.select('filename').show(truncate = False)"
   ]
  },
  {
   "cell_type": "markdown",
   "metadata": {},
   "source": [
    "## Visualize crossings on SODA-C using GeoPandas"
   ]
  },
  {
   "cell_type": "markdown",
   "metadata": {},
   "source": [
    "### Put SODA-C into a DF and convert it to 100KM circle"
   ]
  },
  {
   "cell_type": "code",
   "execution_count": 140,
   "metadata": {
    "scrolled": true
   },
   "outputs": [
    {
     "name": "stdout",
     "output_type": "stream",
     "text": [
      "+--------------------+\n",
      "|              is2_df|\n",
      "+--------------------+\n",
      "|POINT (-1804587.9...|\n",
      "|POINT (-1555620.5...|\n",
      "|POINT (-1329850.8...|\n",
      "+--------------------+\n",
      "\n"
     ]
    }
   ],
   "source": [
    "soda_list = [\"POINT (73.00043 -148.33627)\", \"POINT (75.46388 -145.63685)\", \"POINT (77.73677 -139.14153)\"]\n",
    "# soda_list = [\"POINT (77.73677 -139.14153)\"]\n",
    "soda_df = spark.createDataFrame(soda_list,StringType())\n",
    "# Convert to epsg:4087 meter-based CRS\n",
    "soda_df = soda_df.selectExpr('ST_Transform(ST_GeomFromWKT(value), \\'epsg:4326\\',\\'epsg:3413\\') as is2_df')\n",
    "soda_df.show()\n",
    "# Create circles using 50KM\n",
    "soda_df = soda_df.selectExpr('ST_Buffer(is2_df, 100000) as is2_df')\n",
    "# Convert to epsg:4326 WGS84\n",
    "soda_df = soda_df.selectExpr('ST_FlipCoordinates(ST_Transform(is2_df, \\'epsg:3413\\',\\'epsg:4326\\')) as is2_df')\n",
    "# soda_df.show()"
   ]
  },
  {
   "cell_type": "markdown",
   "metadata": {},
   "source": [
    "### Convert SODA-C result DataFrame to GeoPandas DataFrame"
   ]
  },
  {
   "cell_type": "code",
   "execution_count": 141,
   "metadata": {
    "scrolled": true
   },
   "outputs": [
    {
     "name": "stderr",
     "output_type": "stream",
     "text": [
      "/Users/jiayu/.local/share/virtualenvs/gallery-icespark-yOC315wH/lib/python3.8/site-packages/geopandas/array.py:85: ShapelyDeprecationWarning: __len__ for multi-part geometries is deprecated and will be removed in Shapely 2.0. Check the length of the `geoms` property instead to get the  number of parts of a multi-part geometry.\n",
      "  aout[:] = out\n",
      "/Users/jiayu/.local/share/virtualenvs/gallery-icespark-yOC315wH/lib/python3.8/site-packages/geopandas/geodataframe.py:35: ShapelyDeprecationWarning: The array interface is deprecated and will no longer work in Shapely 2.0. Convert the '.coords' to a numpy array instead.\n",
      "  out = from_shapely(data)\n"
     ]
    }
   ],
   "source": [
    "country_gpd = gpd.GeoDataFrame(countries_df.toPandas(), geometry=\"geometry\")\n",
    "soda_gpd = gpd.GeoDataFrame(soda_df.toPandas(), geometry=\"is2_df\")\n",
    "orbit_gpd = gpd.GeoDataFrame(result_df3.selectExpr('ST_FlipCoordinates(orbit) as orbit').toPandas(), geometry=\"orbit\")"
   ]
  },
  {
   "cell_type": "markdown",
   "metadata": {},
   "source": [
    "### Plot the maps\n",
    "\n",
    "You can uncomment different base XY to change the view of the map"
   ]
  },
  {
   "cell_type": "code",
   "execution_count": 142,
   "metadata": {
    "scrolled": true
   },
   "outputs": [
    {
     "name": "stderr",
     "output_type": "stream",
     "text": [
      "/Users/jiayu/.local/share/virtualenvs/gallery-icespark-yOC315wH/lib/python3.8/site-packages/geopandas/plotting.py:38: ShapelyDeprecationWarning: Iteration over multi-part geometries is deprecated and will be removed in Shapely 2.0. Use the `geoms` property to access the constituent parts of a multi-part geometry.\n",
      "  for poly in geom:\n",
      "/Users/jiayu/.local/share/virtualenvs/gallery-icespark-yOC315wH/lib/python3.8/site-packages/descartes/patch.py:62: ShapelyDeprecationWarning: The array interface is deprecated and will no longer work in Shapely 2.0. Convert the '.coords' to a numpy array instead.\n",
      "  vertices = concatenate([\n",
      "/Users/jiayu/.local/share/virtualenvs/gallery-icespark-yOC315wH/lib/python3.8/site-packages/descartes/patch.py:64: ShapelyDeprecationWarning: The array interface is deprecated and will no longer work in Shapely 2.0. Convert the '.coords' to a numpy array instead.\n",
      "  [asarray(r)[:, :2] for r in t.interiors])\n",
      "/Users/jiayu/.local/share/virtualenvs/gallery-icespark-yOC315wH/lib/python3.8/site-packages/geopandas/plotting.py:171: ShapelyDeprecationWarning: The array interface is deprecated and will no longer work in Shapely 2.0. Convert the '.coords' to a numpy array instead.\n",
      "  segments = [np.array(linestring)[:, :2] for linestring in geoms]\n",
      "/Users/jiayu/.local/share/virtualenvs/gallery-icespark-yOC315wH/lib/python3.8/site-packages/descartes/patch.py:62: ShapelyDeprecationWarning: The array interface is deprecated and will no longer work in Shapely 2.0. Convert the '.coords' to a numpy array instead.\n",
      "  vertices = concatenate([\n"
     ]
    },
    {
     "data": {
      "image/png": "[encoded data removed]",
      "text/plain": [
       "<Figure size 432x288 with 1 Axes>"
      ]
     },
     "metadata": {
      "needs_background": "light"
     },
     "output_type": "display_data"
    }
   ],
   "source": [
    "base = country_gpd.plot(color='yellow', edgecolor='black', zorder=1)\n",
    "base.set_facecolor('#d7fffe')\n",
    "# SODA-A Close-up view\n",
    "#base.set_xlim(-151, -146)\n",
    "#base.set_ylim(71, 75)\n",
    "# SODA-B Close-up view\n",
    "#base.set_xlim(-147.5, -143.5)\n",
    "#base.set_ylim(74, 77)\n",
    "# SODA-C Close-up view\n",
    "base.set_xlim(-150, -130)\n",
    "base.set_ylim(70, 80)\n",
    "# SODA-ABC Close-up view\n",
    "# base.set_xlim(-160, -130)\n",
    "# base.set_ylim(60, 90)\n",
    "# Global view\n",
    "# base.set_xlim(-180, 180)\n",
    "# base.set_ylim(-90, 90)\n",
    "base.set_xlabel('Longitude (degrees)')\n",
    "base.set_ylabel('Latitude (degrees)')\n",
    "orbit = orbit_gpd.plot(ax=base, color='#06470c', zorder=3)\n",
    "soda = soda_gpd.plot(ax=orbit, color='red', alpha=0.6, zorder=2)"
   ]
  },
  {
   "cell_type": "markdown",
   "metadata": {
    "scrolled": true
   },
   "source": [
    "# Demo 2:  Find the crossing between ICESat-2 orbits and Sentinel-2 and WorldView-3 images\n",
    "\n",
    "**Two Sentinel-2 image bounding boxes (lat, lon format)**\n",
    "\n",
    "S-2 image from June 22, 2019:\n",
    "```\n",
    "UL: 82.852919, -63.001439\n",
    "LL: 81.869306, -63.001267\n",
    "UR: 82.785942, -55.145842\n",
    "LR: 81.810456, -56.080844\n",
    "```\n",
    "\n",
    "Polygon format (UL - LL - LR - UR - UL): 82.852919, -63.001439, 81.869306, -63.001267, 81.810456, -56.080844, 82.785942, -55.145842, 82.852919, -63.001439\n",
    "\n",
    "S-2 image from September 3, 2019:\n",
    "```\n",
    "UL: 79.232286, -121.801758\n",
    "LL: 78.251639, -121.405181\n",
    "UR: 79.268856, -116.530467\n",
    "LR: 78.285072, -116.569403\n",
    "```\n",
    "\n",
    "Polygon format (UL - LL - LR - UR - UL): 79.232286, -121.801758, 78.251639, -121.405181, 78.285072, -116.569403, 79.268856, -116.530467, 79.232286, -121.801758\n",
    "\n",
    "**WorldView image bounding boxes (lat, lon format)**\n",
    "\n",
    "WV-3 image from April 10, 2019\n",
    "```\n",
    "UL: 79.76066207, -114.09955772\n",
    "LL: 79.62275657, -114.06853064\n",
    "UR: 79.83858880, -112.31487793\n",
    "LR: 79.69303180, -112.34933739\n",
    "```\n",
    "\n",
    "Polygon format (UL - LL - LR - UR - UL): 79.76066207, -114.09955772, 79.62275657, -114.06853064, 79.69303180, -112.34933739, 79.83858880, -112.31487793, 79.76066207, -114.09955772\n",
    "\n",
    "WV-2 image from April 10, 2019\n",
    "```\n",
    "UL: 80.0576610499, -110.56248745\n",
    "LL: 79.9244458799, -110.56242819\n",
    "UR: 80.044587680, -109.42456569\n",
    "LR: 79.9092631399, -109.42423191\n",
    "```\n",
    "\n",
    "Polygon format (UL - LL - LR - UR - UL): 80.0576610499, -110.56248745, 79.9244458799, -110.56242819, 79.9092631399, -109.42423191, 80.044587680, -109.42456569, 80.0576610499, -110.56248745\n",
    "\n",
    "WV-2 image from June 25, 2020\n",
    "```\n",
    "UL: 84.04474275, -60.80835633\n",
    "LL: 83.90936693, -60.7855143\n",
    "UR: 84.04404486, -59.21133579\n",
    "LR: 83.90966186, -59.23332056\n",
    "```\n",
    "\n",
    "Polygon format (UL - LL - LR - UR - UL): 84.04474275, -60.80835633, 83.90936693, -60.7855143, 83.90966186, -59.23332056, 84.04404486, -59.21133579, 84.04474275, -60.80835633"
   ]
  },
  {
   "cell_type": "markdown",
   "metadata": {},
   "source": [
    "## Check if orbits intersect S-2 and/or WorldView bounding boxes"
   ]
  },
  {
   "cell_type": "code",
   "execution_count": 143,
   "metadata": {},
   "outputs": [
    {
     "name": "stdout",
     "output_type": "stream",
     "text": [
      "+----------------------------------------+\n",
      "|filename                                |\n",
      "+----------------------------------------+\n",
      "|IS2_RGT_0018_cycle2_29-Dec-2018.kml.csv |\n",
      "|IS2_RGT_0018_cycle5_28-Sep-2019.kml.csv |\n",
      "|IS2_RGT_0023_cycle2_29-Dec-2018.kml.csv |\n",
      "|IS2_RGT_0033_cycle10_26-Dec-2020.kml.csv|\n",
      "|IS2_RGT_0033_cycle5_29-Sep-2019.kml.csv |\n",
      "|IS2_RGT_0042_cycle10_26-Dec-2020.kml.csv|\n",
      "|IS2_RGT_0018_cycle11_25-Mar-2021.kml.csv|\n",
      "|IS2_RGT_0023_cycle8_26-Jun-2020.kml.csv |\n",
      "|IS2_RGT_0033_cycle8_27-Jun-2020.kml.csv |\n",
      "|IS2_RGT_0033_30-Dec-2018.kml.csv        |\n",
      "|IS2_RGT_0018_cycle3_30-Mar-2019.kml.csv |\n",
      "|IS2_RGT_0023_cycle6_28-Dec-2019.kml.csv |\n",
      "|IS2_RGT_0033_cycle7_28-Mar-2020.kml.csv |\n",
      "|IS2_RGT_0042_cycle6_29-Dec-2019.kml.csv |\n",
      "|IS2_RGT_0018_cycle9_25-Sep-2020.kml.csv |\n",
      "|IS2_RGT_0033_cycle2_30-Dec-2018.kml.csv |\n",
      "|IS2_RGT_0033_cycle11_26-Mar-2021.kml.csv|\n",
      "|IS2_RGT_0042_cycle11_27-Mar-2021.kml.csv|\n",
      "|IS2_RGT_0042_cycle9_26-Sep-2020.kml.csv |\n",
      "|IS2_RGT_0018_cycle7_27-Mar-2020.kml.csv |\n",
      "+----------------------------------------+\n",
      "only showing top 20 rows\n",
      "\n",
      "Sentinel-2 A number of crosses:  40\n",
      "Sentinel-2 B number of crosses:  10\n",
      "WorldView A number of crosses:  0\n",
      "WorldView B number of crosses:  0\n",
      "WorldView C number of crosses:  10\n"
     ]
    }
   ],
   "source": [
    "# modified projection\n",
    "\n",
    "result_df1 = spark.sql('SELECT * '\n",
    "                     'FROM is2_df '\n",
    "                     'WHERE ST_Intersects(orbit, ST_PolygonFromText (\\'82.852919, -63.001439,81.869306, -63.001267, 81.810456, -56.080844, 82.785942, -55.145842, 82.852919, -63.001439\\',\\',\\'))')\n",
    "result_df1.select(\"filename\").show(truncate = False)\n",
    "print('Sentinel-2 A number of crosses: ', result_df1.count())\n",
    "\n",
    "result_df2 = spark.sql('SELECT * '\n",
    "                     'FROM is2_df '\n",
    "                     'WHERE ST_Intersects(orbit, ST_PolygonFromText (\\'79.232286, -121.801758, 78.251639, -121.405181, 78.285072, -116.569403, 79.268856, -116.530467, 79.232286, -121.801758\\',\\',\\'))')\n",
    "print('Sentinel-2 B number of crosses: ', result_df2.count())\n",
    "\n",
    "result_df3 = spark.sql('SELECT * '\n",
    "                      'FROM is2_df '\n",
    "                      'WHERE ST_Intersects(orbit, ST_PolygonFromText (\\'79.76066207, -114.09955772, 79.62275657, -114.06853064, 79.69303180, -112.34933739, 79.83858880, -112.31487793, 79.76066207, -114.09955772\\',\\',\\'))')\n",
    "print('WorldView A number of crosses: ', result_df3.count())\n",
    "\n",
    "result_df4 = spark.sql('SELECT * '\n",
    "                     'FROM is2_df '\n",
    "                     'WHERE ST_Intersects(orbit, ST_PolygonFromText (\\'80.0576610499, -110.56248745, 79.9244458799, -110.56242819, 79.9092631399, -109.42423191, 80.044587680, -109.42456569, 80.0576610499, -110.56248745\\',\\',\\'))')\n",
    "print('WorldView B number of crosses: ', result_df4.count())\n",
    "\n",
    "result_df5 = spark.sql('SELECT * '\n",
    "                     'FROM is2_df '\n",
    "                     'WHERE ST_Intersects(orbit, ST_PolygonFromText (\\'84.04474275, -60.80835633, 83.90936693, -60.7855143, 83.90966186, -59.23332056, 84.04404486, -59.21133579, 84.04474275, -60.80835633\\',\\',\\'))')\n",
    "print('WorldView C number of crosses: ', result_df5.count())"
   ]
  },
  {
   "cell_type": "markdown",
   "metadata": {},
   "source": [
    "## Find orbits in Year 2019 in the S-2 A result"
   ]
  },
  {
   "cell_type": "code",
   "execution_count": 144,
   "metadata": {},
   "outputs": [
    {
     "name": "stdout",
     "output_type": "stream",
     "text": [
      "+---------------------------------------+\n",
      "|filename                               |\n",
      "+---------------------------------------+\n",
      "|IS2_RGT_0018_cycle5_28-Sep-2019.kml.csv|\n",
      "|IS2_RGT_0033_cycle5_29-Sep-2019.kml.csv|\n",
      "|IS2_RGT_0018_cycle3_30-Mar-2019.kml.csv|\n",
      "|IS2_RGT_0023_cycle6_28-Dec-2019.kml.csv|\n",
      "|IS2_RGT_0042_cycle6_29-Dec-2019.kml.csv|\n",
      "|IS2_RGT_0033_cycle6_28-Dec-2019.kml.csv|\n",
      "|IS2_RGT_0018_cycle6_27-Dec-2019.kml.csv|\n",
      "|IS2_RGT_0033_cycle3_31-Mar-2019.kml.csv|\n",
      "|IS2_RGT_0042_cycle3_01-Apr-2019.kml.csv|\n",
      "|IS2_RGT_0042_cycle5_29-Sep-2019.kml.csv|\n",
      "|IS2_RGT_0023_cycle5_28-Sep-2019.kml.csv|\n",
      "|IS2_RGT_0023_cycle3_30-Mar-2019.kml.csv|\n",
      "+---------------------------------------+\n",
      "\n"
     ]
    }
   ],
   "source": [
    "result_df1.filter('filename LIKE \\'%2019%\\'').select(\"filename\").show(result_df1.count(), truncate = False)"
   ]
  },
  {
   "cell_type": "markdown",
   "metadata": {},
   "source": [
    "## Visualize crossings on S-2 A using GeoPandas "
   ]
  },
  {
   "cell_type": "markdown",
   "metadata": {},
   "source": [
    "### Put S-2 A into a DataFrame\n",
    "\n",
    "You can uncomment other examples as well"
   ]
  },
  {
   "cell_type": "code",
   "execution_count": 145,
   "metadata": {},
   "outputs": [
    {
     "name": "stdout",
     "output_type": "stream",
     "text": [
      "+--------------------+\n",
      "|                 s2a|\n",
      "+--------------------+\n",
      "|POLYGON ((-63.001...|\n",
      "+--------------------+\n",
      "\n"
     ]
    }
   ],
   "source": [
    "s2_a = spark.sql('SELECT ST_FlipCoordinates(ST_PolygonFromText (\\'82.852919, -63.001439, 81.869306, -63.001267, 81.810456, -56.080844, 82.785942, -55.145842, 82.852919, -63.001439\\',\\',\\')) as s2a')\n",
    "s2_a.show()\n",
    "#s2_a = spark.sql('SELECT ST_FlipCoordinates(ST_PolygonFromText (\\'82.852919, -63.001439, 81.869306, -63.001267, 81.810456, -56.080844, 82.785942, -55.145842, 82.852919, -63.001439\\',\\',\\')) as s2a')\n",
    "#s2_b = spark.sql('SELECT ST_FlipCoordinates(ST_PolygonFromText (\\'79.232286, -121.801758, 78.251639, -121.405181, 78.285072, -116.569403, 79.268856, -116.530467, 79.232286, -121.801758\\',\\',\\')) as s2b')\n",
    "# wv_a = spark.sql('SELECT ST_FlipCoordinates(ST_PolygonFromText (\\'79.76066207, -114.09955772, 79.62275657, -114.06853064, 79.69303180, -112.34933739, 79.83858880, -112.31487793, 79.76066207, -114.09955772\\',\\',\\')) as wva')\n",
    "#s2_a.show()\n",
    "#s2_b.show()\n",
    "#wv_a.show()"
   ]
  },
  {
   "cell_type": "markdown",
   "metadata": {},
   "source": [
    "### Convert result DataFrame to GeoPandas DataFrame"
   ]
  },
  {
   "cell_type": "code",
   "execution_count": 146,
   "metadata": {},
   "outputs": [
    {
     "name": "stderr",
     "output_type": "stream",
     "text": [
      "/Users/jiayu/.local/share/virtualenvs/gallery-icespark-yOC315wH/lib/python3.8/site-packages/geopandas/array.py:85: ShapelyDeprecationWarning: __len__ for multi-part geometries is deprecated and will be removed in Shapely 2.0. Check the length of the `geoms` property instead to get the  number of parts of a multi-part geometry.\n",
      "  aout[:] = out\n",
      "/Users/jiayu/.local/share/virtualenvs/gallery-icespark-yOC315wH/lib/python3.8/site-packages/geopandas/geodataframe.py:35: ShapelyDeprecationWarning: The array interface is deprecated and will no longer work in Shapely 2.0. Convert the '.coords' to a numpy array instead.\n",
      "  out = from_shapely(data)\n"
     ]
    }
   ],
   "source": [
    "country_gpd = gpd.GeoDataFrame(countries_df.toPandas(), geometry=\"geometry\")\n",
    "## Separate lines for each example\n",
    "s2_gpd = gpd.GeoDataFrame(s2_a.toPandas(), geometry=\"s2a\")\n",
    "#s2_gpd = gpd.GeoDataFrame(s2_b.toPandas(), geometry=\"s2b\")\n",
    "# wv_gpd = gpd.GeoDataFrame(wv_a.toPandas(), geometry=\"wva\")\n",
    "orbit_gpd = gpd.GeoDataFrame(result_df1.selectExpr('ST_FlipCoordinates(orbit) as orbit').toPandas(), geometry=\"orbit\")\n",
    "#orbit_gpd = gpd.GeoDataFrame(result_df2.selectExpr('ST_FlipCoordinates(orbit) as orbit').toPandas(), geometry=\"orbit\")\n",
    "# orbit_gpd = gpd.GeoDataFrame(result_df3.selectExpr('ST_FlipCoordinates(orbit) as orbit').toPandas(), geometry=\"orbit\")"
   ]
  },
  {
   "cell_type": "markdown",
   "metadata": {},
   "source": [
    "### Plot the maps\n",
    "You can uncomment different base XY to change the view of the map"
   ]
  },
  {
   "cell_type": "code",
   "execution_count": 147,
   "metadata": {},
   "outputs": [
    {
     "name": "stderr",
     "output_type": "stream",
     "text": [
      "/Users/jiayu/.local/share/virtualenvs/gallery-icespark-yOC315wH/lib/python3.8/site-packages/geopandas/plotting.py:38: ShapelyDeprecationWarning: Iteration over multi-part geometries is deprecated and will be removed in Shapely 2.0. Use the `geoms` property to access the constituent parts of a multi-part geometry.\n",
      "  for poly in geom:\n",
      "/Users/jiayu/.local/share/virtualenvs/gallery-icespark-yOC315wH/lib/python3.8/site-packages/descartes/patch.py:62: ShapelyDeprecationWarning: The array interface is deprecated and will no longer work in Shapely 2.0. Convert the '.coords' to a numpy array instead.\n",
      "  vertices = concatenate([\n",
      "/Users/jiayu/.local/share/virtualenvs/gallery-icespark-yOC315wH/lib/python3.8/site-packages/descartes/patch.py:64: ShapelyDeprecationWarning: The array interface is deprecated and will no longer work in Shapely 2.0. Convert the '.coords' to a numpy array instead.\n",
      "  [asarray(r)[:, :2] for r in t.interiors])\n",
      "/Users/jiayu/.local/share/virtualenvs/gallery-icespark-yOC315wH/lib/python3.8/site-packages/geopandas/plotting.py:171: ShapelyDeprecationWarning: The array interface is deprecated and will no longer work in Shapely 2.0. Convert the '.coords' to a numpy array instead.\n",
      "  segments = [np.array(linestring)[:, :2] for linestring in geoms]\n",
      "/Users/jiayu/.local/share/virtualenvs/gallery-icespark-yOC315wH/lib/python3.8/site-packages/descartes/patch.py:62: ShapelyDeprecationWarning: The array interface is deprecated and will no longer work in Shapely 2.0. Convert the '.coords' to a numpy array instead.\n",
      "  vertices = concatenate([\n"
     ]
    },
    {
     "data": {
      "image/png": "[encoded data removed]",
      "text/plain": [
       "<Figure size 432x288 with 1 Axes>"
      ]
     },
     "metadata": {
      "needs_background": "light"
     },
     "output_type": "display_data"
    }
   ],
   "source": [
    "base = country_gpd.plot(color='dimgray', edgecolor='black', zorder=1)\n",
    "base.set_facecolor('#d7fffe')\n",
    "# Sentinel-2 A view\n",
    "base.set_xlim(-65, -54)\n",
    "base.set_ylim(80, 85.5)\n",
    "# Sentinel-2 B view\n",
    "#base.set_xlim(-125, -113)\n",
    "#base.set_ylim(72, 80)\n",
    "# WorldView A view\n",
    "# base.set_xlim(-115, -111)\n",
    "# base.set_ylim(78, 81)\n",
    "# Global view\n",
    "#base.set_xlim(-180, 180)\n",
    "#base.set_ylim(-90, 90)\n",
    "base.set_xlabel('Longitude (degrees)')\n",
    "base.set_ylabel('Latitude (degrees)')\n",
    "orbit = orbit_gpd.plot(ax=base, color='#06470c', linewidth=1.75, label='IS2 RGT 1298 & 1307', zorder=3)\n",
    "s2 = s2_gpd.plot(ax=orbit, color='red', alpha=0.7, edgecolor='red', linewidth=1.75, zorder=2)\n",
    "# wv = wv_gpd.plot(ax=orbit, color='red', alpha=0.7, edgecolor='red', linewidth=1.75, label='WV-2 Image', zorder=2)\n",
    "#plt.legend(loc='upper right', framealpha=1)\n",
    "#plt.title('June 22, 2019 Sentinel-2 and IS-2 crossing')\n",
    "#plt.show()"
   ]
  },
  {
   "cell_type": "code",
   "execution_count": null,
   "metadata": {},
   "outputs": [],
   "source": []
  }
 ],
 "metadata": {
  "kernelspec": {
   "display_name": "apache-sedona",
   "language": "python",
   "name": "apache-sedona"
  },
  "language_info": {
   "codemirror_mode": {
    "name": "ipython",
    "version": 3
   },
   "file_extension": ".py",
   "mimetype": "text/x-python",
   "name": "python",
   "nbconvert_exporter": "python",
   "pygments_lexer": "ipython3",
   "version": "3.8.2"
  }
 },
 "nbformat": 4,
 "nbformat_minor": 2
}
