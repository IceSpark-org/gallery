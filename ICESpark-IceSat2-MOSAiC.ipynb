{
 "cells": [
  {
   "cell_type": "markdown",
   "metadata": {},
   "source": [
    "# ICESpark Ice Sat 2 Orbit Crossing + MOSAiC Master track of POLARSTERN cruise\n"
   ]
  },
  {
   "cell_type": "code",
   "execution_count": 1,
   "metadata": {
    "scrolled": true
   },
   "outputs": [],
   "source": [
    "import os\n",
    "\n",
    "import geopandas as gpd\n",
    "from pyspark.sql import SparkSession\n",
    "from pyspark.sql.types import *\n",
    "from pyspark.sql.functions import col, expr, broadcast\n",
    "\n",
    "from sedona.register import SedonaRegistrator\n",
    "from sedona.utils import SedonaKryoRegistrator, KryoSerializer\n",
    "from sedona.core.formatMapper.shapefileParser import ShapefileReader\n",
    "from sedona.utils.adapter import Adapter"
   ]
  },
  {
   "cell_type": "code",
   "execution_count": 2,
   "metadata": {
    "scrolled": true
   },
   "outputs": [],
   "source": [
    "spark = SparkSession. \\\n",
    "    builder. \\\n",
    "    appName('appName'). \\\n",
    "    master('local[*]'). \\\n",
    "    config(\"spark.serializer\", KryoSerializer.getName). \\\n",
    "    config(\"spark.kryo.registrator\", SedonaKryoRegistrator.getName). \\\n",
    "    config(\"spark.kryoserializer.buffer.max\", '200').\\\n",
    "    config('spark.jars.packages',\n",
    "           'org.apache.sedona:sedona-python-adapter-3.0_2.12:1.2.0-incubating,org.datasyslab:geotools-wrapper:1.1.0-25.2'). \\\n",
    "    getOrCreate()\n",
    "# spark.kryoserializer.buffer.max Broadcast buffer size, in MB"
   ]
  },
  {
   "cell_type": "code",
   "execution_count": 3,
   "metadata": {
    "scrolled": true
   },
   "outputs": [],
   "source": [
    "SedonaRegistrator.registerAll(spark)\n",
    "sc = spark.sparkContext\n",
    "sc.setSystemProperty(\"sedona.global.charset\", \"utf8\")"
   ]
  },
  {
   "cell_type": "markdown",
   "metadata": {},
   "source": [
    "## Load ICE_SAT2 orbits (size 2.6GB, 13704 orbits) into Spark\n",
    "Files are originally in KML. They are converted to a single WKT file using GDAL ogr2ogr command.\n",
    "\n",
    "Filename example: IS2_RGT_0702_cycle3_14-May-2019.kml.csv"
   ]
  },
  {
   "cell_type": "code",
   "execution_count": 4,
   "metadata": {
    "scrolled": true
   },
   "outputs": [
    {
     "name": "stdout",
     "output_type": "stream",
     "text": [
      "+--------------------+------+-----------+---------+-----+----+-------------+----------+-------+----------+---------+----+--------------------+\n",
      "|                 WKT|  Name|description|timestamp|begin| end| altitudeMode|tessellate|extrude|visibility|drawOrder|icon|            filename|\n",
      "+--------------------+------+-----------+---------+-----+----+-------------+----------+-------+----------+---------+----+--------------------+\n",
      "|LINESTRING (-70.8...| RGT 4|       null|     null| null|null|clampToGround|        -1|      0|         1|     null|null|IS2_RGT_0004_cycl...|\n",
      "|LINESTRING (-41.7...|RGT 18|       null|     null| null|null|clampToGround|        -1|      0|         1|     null|null|IS2_RGT_0018_cycl...|\n",
      "+--------------------+------+-----------+---------+-----+----+-------------+----------+-------+----------+---------+----+--------------------+\n",
      "only showing top 2 rows\n",
      "\n",
      "15091\n"
     ]
    }
   ],
   "source": [
    "ice2_df = spark.read.format(\"csv\").\\\n",
    "    option(\"delimiter\", \",\").\\\n",
    "    option(\"header\", \"true\").\\\n",
    "    load(\"data/IS2_RGTs_aggr_data_timestamp-head1000.csv\").repartition(10)\n",
    "\n",
    "ice2_df.createOrReplaceTempView(\"is2_df_raw\")\n",
    "\n",
    "ice2_df.show(2)\n",
    "\n",
    "print(ice2_df.count())\n"
   ]
  },
  {
   "cell_type": "markdown",
   "metadata": {},
   "source": [
    "## Create an UDF to transform the date column"
   ]
  },
  {
   "cell_type": "code",
   "execution_count": 5,
   "metadata": {},
   "outputs": [],
   "source": [
    "from datetime import datetime\n",
    "from pyspark.sql.types import BooleanType\n",
    "from pyspark.sql.functions import udf\n",
    "def orbit_date(s):\n",
    "  length = len(s)\n",
    "  date_str = s[(length-19):(length-8)]\n",
    "  date_obj = datetime.strptime(date_str, '%d-%b-%Y')\n",
    "  return date_obj.strftime(\"%Y-%m-%d\")\n",
    "def orbit_filter_dirty(s):\n",
    "  if len(s) < 20:\n",
    "    return False\n",
    "  else:\n",
    "    return True\n",
    "def cruise_date(s):\n",
    "  return s[0:10]\n",
    "spark.udf.register(\"orbit_date\", orbit_date)\n",
    "spark.udf.register(\"cruise_date\", cruise_date)\n",
    "spark.udf.register(\"orbit_filter_dirty\", orbit_filter_dirty)\n",
    "orbit_filter_dirty_udf = udf(orbit_filter_dirty, BooleanType())"
   ]
  },
  {
   "cell_type": "markdown",
   "metadata": {},
   "source": [
    "## Create DataFrame - Select Year 2020 data"
   ]
  },
  {
   "cell_type": "code",
   "execution_count": 6,
   "metadata": {
    "scrolled": true
   },
   "outputs": [
    {
     "name": "stdout",
     "output_type": "stream",
     "text": [
      "+--------------------+-------+-------------+----------+-------+----------+--------------------+----------+\n",
      "|               orbit|   Name| altitudeMode|tessellate|extrude|visibility|            filename|      date|\n",
      "+--------------------+-------+-------------+----------+-------+----------+--------------------+----------+\n",
      "|LINESTRING (0.066...|RGT 110|clampToGround|        -1|      0|         1|IS2_RGT_0110_cycl...|2020-12-31|\n",
      "|LINESTRING (0.051...| RGT 71|clampToGround|        -1|      0|         1|IS2_RGT_0071_cycl...|2020-09-28|\n",
      "+--------------------+-------+-------------+----------+-------+----------+--------------------+----------+\n",
      "only showing top 2 rows\n",
      "\n",
      "+---------------------------------------+\n",
      "|filename                               |\n",
      "+---------------------------------------+\n",
      "|IS2_RGT_0098_cycle7_01-Apr-2020.kml.csv|\n",
      "|IS2_RGT_0076_cycle8_30-Jun-2020.kml.csv|\n",
      "+---------------------------------------+\n",
      "only showing top 2 rows\n",
      "\n",
      "5590\n"
     ]
    }
   ],
   "source": [
    "ice2_df = spark.sql(\"select ST_FlipCoordinates(ST_GeomFromWKT(WKT)) as orbit, Name, altitudeMode, tessellate, extrude, visibility, filename from is2_df_raw\")\n",
    "ice2_df = ice2_df.filter(\"filename LIKE \\'%2020.kml.csv%\\'\").withColumn(\"date\", expr(\"orbit_date(filename)\"))\n",
    "# ice2_df.createOrReplaceTempView(\"is2_df\")\n",
    "ice2_df.show(2)\n",
    "ice2_df.select(\"filename\").show(2, truncate = False)\n",
    "print(ice2_df.count())"
   ]
  },
  {
   "cell_type": "markdown",
   "metadata": {},
   "source": [
    "## Load Master track of POLARSTERN cruise into Spark (Leg 1- 4, 1.2 GB, 28222065 coordinates)"
   ]
  },
  {
   "cell_type": "code",
   "execution_count": 7,
   "metadata": {},
   "outputs": [
    {
     "name": "stdout",
     "output_type": "stream",
     "text": [
      "+-------------------+----------+---------+--------------------+\n",
      "|    Date/Time (UTC)|  Latitude|Longitude|Flag for data source|\n",
      "+-------------------+----------+---------+--------------------+\n",
      "|2020-06-25T02:01:37|82.0571156|9.9083917|                   2|\n",
      "|2020-06-14T15:21:26|82.0204115|7.7698173|                   2|\n",
      "+-------------------+----------+---------+--------------------+\n",
      "only showing top 2 rows\n",
      "\n"
     ]
    }
   ],
   "source": [
    "cruise_df = spark.read.format(\"csv\").\\\n",
    "    option(\"delimiter\", \"\\t\").\\\n",
    "    option(\"header\", \"true\").\\\n",
    "    load(\"data/PS122*head1000.txt\").\\\n",
    "    filter(col(\"Latitude\").isNotNull()).\\\n",
    "    filter(col(\"Longitude\").isNotNull()).\\\n",
    "    repartition(100)\n",
    "cruise_df.show(2)"
   ]
  },
  {
   "cell_type": "markdown",
   "metadata": {},
   "source": [
    "## Create DataFrame - Select Year 2020 data, take a sample per hour"
   ]
  },
  {
   "cell_type": "code",
   "execution_count": 8,
   "metadata": {},
   "outputs": [
    {
     "name": "stdout",
     "output_type": "stream",
     "text": [
      "+-------------------+--------------------+--------------------+----------+\n",
      "|    Date/Time (UTC)|Flag for data source|            location|      date|\n",
      "+-------------------+--------------------+--------------------+----------+\n",
      "|2020-07-13T22:00:00|                   2|POINT (0.2461643 ...|2020-07-13|\n",
      "|2020-07-02T01:00:00|                   2|POINT (8.6917001 ...|2020-07-02|\n",
      "+-------------------+--------------------+--------------------+----------+\n",
      "only showing top 2 rows\n",
      "\n",
      "+----------------------------+\n",
      "|location                    |\n",
      "+----------------------------+\n",
      "|POINT (9.1079856 81.8182095)|\n",
      "|POINT (3.423102 81.6131373) |\n",
      "+----------------------------+\n",
      "only showing top 2 rows\n",
      "\n",
      "5386\n"
     ]
    }
   ],
   "source": [
    "cruise_df = cruise_df.withColumn(\"location\", expr(\"ST_Point(cast(Longitude as double), cast(Latitude as double))\"))\\\n",
    ".drop(\"Longitude\").drop(\"Latitude\").withColumn(\"date\", expr(\"cruise_date(`Date/Time (UTC)`)\"))\\\n",
    ".filter(\"`Date/Time (UTC)` LIKE \\'2020______T__:00:00\\'\")\n",
    "# cruise_df.createOrReplaceTempView(\"cruise_df\")\n",
    "cruise_df.show(2)\n",
    "cruise_df.select(\"location\").show(2, truncate = False)\n",
    "print(cruise_df.count())"
   ]
  },
  {
   "cell_type": "markdown",
   "metadata": {},
   "source": [
    "### Orbit within a 50KM circle of cruise locations, using ST_Buffer\n",
    "#### IceSat2 data needs to be converted from WGS84 (epsg:4326) CRS to meter-based epsg:4087 (WGS 84 / World Equidistant Cylindrical) using Sedona's ST_Transform"
   ]
  },
  {
   "cell_type": "code",
   "execution_count": 9,
   "metadata": {},
   "outputs": [
    {
     "name": "stdout",
     "output_type": "stream",
     "text": [
      "82254\n",
      "9385\n",
      "+----------+-------------------+--------------------+--------------------+--------------------+-------+-------------+----------+-------+----------+--------------------+\n",
      "|      date|    Date/Time (UTC)|Flag for data source|            location|               orbit|   Name| altitudeMode|tessellate|extrude|visibility|            filename|\n",
      "+----------+-------------------+--------------------+--------------------+--------------------+-------+-------------+----------+-------+----------+--------------------+\n",
      "|2020-02-26|2020-02-26T01:00:00|                   2|POINT (42.3166859...|LINESTRING (0.059...|RGT 940|clampToGround|        -1|      0|         1|IS2_RGT_0940_cycl...|\n",
      "|2020-02-26|2020-02-26T20:00:00|                   2|POINT (38.7787035...|LINESTRING (0.059...|RGT 940|clampToGround|        -1|      0|         1|IS2_RGT_0940_cycl...|\n",
      "|2020-02-26|2020-02-26T10:00:00|                   2|POINT (40.4310931...|LINESTRING (0.059...|RGT 940|clampToGround|        -1|      0|         1|IS2_RGT_0940_cycl...|\n",
      "|2020-02-26|2020-02-26T13:00:00|                   2|POINT (39.8391932...|LINESTRING (0.059...|RGT 940|clampToGround|        -1|      0|         1|IS2_RGT_0940_cycl...|\n",
      "|2020-02-26|2020-02-26T15:00:00|                   2|POINT (39.5030153...|LINESTRING (0.059...|RGT 940|clampToGround|        -1|      0|         1|IS2_RGT_0940_cycl...|\n",
      "|2020-02-26|2020-02-26T03:00:00|                   2|POINT (41.8589956...|LINESTRING (0.059...|RGT 940|clampToGround|        -1|      0|         1|IS2_RGT_0940_cycl...|\n",
      "|2020-02-26|2020-02-26T07:00:00|                   2|POINT (41.0323608...|LINESTRING (0.059...|RGT 940|clampToGround|        -1|      0|         1|IS2_RGT_0940_cycl...|\n",
      "|2020-02-26|2020-02-26T11:00:00|                   2|POINT (40.2290422...|LINESTRING (0.059...|RGT 940|clampToGround|        -1|      0|         1|IS2_RGT_0940_cycl...|\n",
      "|2020-02-26|2020-02-26T06:00:00|                   2|POINT (41.2326783...|LINESTRING (0.059...|RGT 940|clampToGround|        -1|      0|         1|IS2_RGT_0940_cycl...|\n",
      "|2020-02-26|2020-02-26T21:00:00|                   2|POINT (38.6288813...|LINESTRING (0.059...|RGT 940|clampToGround|        -1|      0|         1|IS2_RGT_0940_cycl...|\n",
      "|2020-02-26|2020-02-26T23:00:00|                   2|POINT (38.326053 ...|LINESTRING (0.059...|RGT 940|clampToGround|        -1|      0|         1|IS2_RGT_0940_cycl...|\n",
      "|2020-02-26|2020-02-26T18:00:00|                   2|POINT (39.0665136...|LINESTRING (0.059...|RGT 940|clampToGround|        -1|      0|         1|IS2_RGT_0940_cycl...|\n",
      "|2020-02-26|2020-02-26T00:00:00|                   2|POINT (42.5640807...|LINESTRING (0.059...|RGT 940|clampToGround|        -1|      0|         1|IS2_RGT_0940_cycl...|\n",
      "|2020-02-26|2020-02-26T12:00:00|                   2|POINT (40.0303439...|LINESTRING (0.059...|RGT 940|clampToGround|        -1|      0|         1|IS2_RGT_0940_cycl...|\n",
      "|2020-02-26|2020-02-26T05:00:00|                   2|POINT (41.4351158...|LINESTRING (0.059...|RGT 940|clampToGround|        -1|      0|         1|IS2_RGT_0940_cycl...|\n",
      "|2020-02-26|2020-02-26T08:00:00|                   2|POINT (40.8321458...|LINESTRING (0.059...|RGT 940|clampToGround|        -1|      0|         1|IS2_RGT_0940_cycl...|\n",
      "|2020-02-26|2020-02-26T17:00:00|                   2|POINT (39.2080478...|LINESTRING (0.059...|RGT 940|clampToGround|        -1|      0|         1|IS2_RGT_0940_cycl...|\n",
      "|2020-02-26|2020-02-26T19:00:00|                   2|POINT (38.924784 ...|LINESTRING (0.059...|RGT 940|clampToGround|        -1|      0|         1|IS2_RGT_0940_cycl...|\n",
      "|2020-02-26|2020-02-26T22:00:00|                   2|POINT (38.4777623...|LINESTRING (0.059...|RGT 940|clampToGround|        -1|      0|         1|IS2_RGT_0940_cycl...|\n",
      "|2020-02-26|2020-02-26T02:00:00|                   2|POINT (42.0820402...|LINESTRING (0.059...|RGT 940|clampToGround|        -1|      0|         1|IS2_RGT_0940_cycl...|\n",
      "+----------+-------------------+--------------------+--------------------+--------------------+-------+-------------+----------+-------+----------+--------------------+\n",
      "only showing top 20 rows\n",
      "\n"
     ]
    }
   ],
   "source": [
    "result_df = cruise_df.join(ice2_df, 'date').cache()\n",
    "print(result_df.count())\n",
    "result_df = result_df.filter(\"ST_Intersects(ST_Transform(ST_Buffer(ST_Transform(location, \\'epsg:4326\\',\\'epsg:3413\\'), 50000), \\'epsg:3413\\',\\'epsg:4326\\'), ST_FlipCoordinates(orbit))\")\n",
    "result_df = result_df.cache()\n",
    "print(result_df.count())\n",
    "result_df.show()\n",
    "result_df = result_df.limit(1000) # Only send 1000 rows for visualization"
   ]
  },
  {
   "cell_type": "markdown",
   "metadata": {},
   "source": [
    "## Visualize the query result using GeoPandas"
   ]
  },
  {
   "cell_type": "markdown",
   "metadata": {},
   "source": [
    "### Read a country shapefile as the base map using Sedona"
   ]
  },
  {
   "cell_type": "code",
   "execution_count": 10,
   "metadata": {
    "scrolled": true
   },
   "outputs": [
    {
     "name": "stdout",
     "output_type": "stream",
     "text": [
      "+--------------------+--------+\n",
      "|            geometry| NAME_EN|\n",
      "+--------------------+--------+\n",
      "|POLYGON ((31.2878...|Zimbabwe|\n",
      "|POLYGON ((30.3960...|  Zambia|\n",
      "+--------------------+--------+\n",
      "only showing top 2 rows\n",
      "\n"
     ]
    }
   ],
   "source": [
    "countries = ShapefileReader.readToGeometryRDD(sc, \"data/ne_50m_admin_0_countries_lakes\")\n",
    "countries_df = Adapter.toDf(countries, spark).select(\"geometry\", \"NAME_EN\")\n",
    "countries_df.show(2)"
   ]
  },
  {
   "cell_type": "markdown",
   "metadata": {},
   "source": [
    "### Convert Cruise DF to 50KM circle"
   ]
  },
  {
   "cell_type": "code",
   "execution_count": 11,
   "metadata": {
    "scrolled": true
   },
   "outputs": [
    {
     "name": "stdout",
     "output_type": "stream",
     "text": [
      "+--------------------+\n",
      "|            location|\n",
      "+--------------------+\n",
      "|POLYGON ((10.7330...|\n",
      "|POLYGON ((10.6088...|\n",
      "|POLYGON ((10.5113...|\n",
      "|POLYGON ((10.5661...|\n",
      "|POLYGON ((9.34686...|\n",
      "|POLYGON ((10.4962...|\n",
      "|POLYGON ((10.7269...|\n",
      "|POLYGON ((10.5443...|\n",
      "|POLYGON ((10.6299...|\n",
      "|POLYGON ((10.6632...|\n",
      "|POLYGON ((10.5416...|\n",
      "|POLYGON ((10.7038...|\n",
      "|POLYGON ((12.7673...|\n",
      "|POLYGON ((12.7673...|\n",
      "|POLYGON ((12.7673...|\n",
      "|POLYGON ((13.1601...|\n",
      "|POLYGON ((13.1601...|\n",
      "|POLYGON ((13.1601...|\n",
      "|POLYGON ((13.1601...|\n",
      "|POLYGON ((12.5407...|\n",
      "+--------------------+\n",
      "only showing top 20 rows\n",
      "\n"
     ]
    }
   ],
   "source": [
    "# Convert to epsg:4087 meter-based CRS\n",
    "# Only send 1000 locations for visualization\n",
    "cruise_df_viz = result_df.selectExpr('ST_Transform(location, \\'epsg:4326\\',\\'epsg:3413\\') as location')\n",
    "# cruise_df.show()\n",
    "# # Create circles using 50KM\n",
    "cruise_df_viz = cruise_df_viz.selectExpr('ST_Buffer(location, 50000) as location')\n",
    "# # Convert to epsg:4326 WGS84\n",
    "cruise_df_viz = cruise_df_viz.selectExpr('ST_Transform(location, \\'epsg:3413\\',\\'epsg:4326\\') as location')\n",
    "cruise_df_viz.show()"
   ]
  },
  {
   "cell_type": "markdown",
   "metadata": {},
   "source": [
    "### Convert Sedona DataFrame to GeoPandas DataFrame"
   ]
  },
  {
   "cell_type": "code",
   "execution_count": 12,
   "metadata": {
    "scrolled": true
   },
   "outputs": [
    {
     "name": "stderr",
     "output_type": "stream",
     "text": [
      "/home/ubuntu/.local/share/virtualenvs/binder-ZEKQRmyT/lib/python3.6/site-packages/geopandas/array.py:85: ShapelyDeprecationWarning: __len__ for multi-part geometries is deprecated and will be removed in Shapely 2.0. Check the length of the `geoms` property instead to get the  number of parts of a multi-part geometry.\n",
      "  aout[:] = out\n",
      "/home/ubuntu/.local/share/virtualenvs/binder-ZEKQRmyT/lib/python3.6/site-packages/geopandas/array.py:85: ShapelyDeprecationWarning: Iteration over multi-part geometries is deprecated and will be removed in Shapely 2.0. Use the `geoms` property to access the constituent parts of a multi-part geometry.\n",
      "  aout[:] = out\n"
     ]
    }
   ],
   "source": [
    "country_gpd = gpd.GeoDataFrame(countries_df.distinct().toPandas(), geometry=\"geometry\")\n",
    "cruise_gpd = gpd.GeoDataFrame(cruise_df_viz.toPandas(), geometry=\"location\")\n",
    "orbit_gpd = gpd.GeoDataFrame(result_df.selectExpr('ST_FlipCoordinates(orbit) as orbit').distinct().toPandas(), geometry=\"orbit\")"
   ]
  },
  {
   "cell_type": "markdown",
   "metadata": {},
   "source": [
    "### Plot the maps"
   ]
  },
  {
   "cell_type": "code",
   "execution_count": 20,
   "metadata": {
    "scrolled": true
   },
   "outputs": [
    {
     "name": "stderr",
     "output_type": "stream",
     "text": [
      "/home/ubuntu/.local/share/virtualenvs/binder-ZEKQRmyT/lib/python3.6/site-packages/geopandas/plotting.py:38: ShapelyDeprecationWarning: Iteration over multi-part geometries is deprecated and will be removed in Shapely 2.0. Use the `geoms` property to access the constituent parts of a multi-part geometry.\n",
      "  for poly in geom:\n",
      "/home/ubuntu/.local/share/virtualenvs/binder-ZEKQRmyT/lib/python3.6/site-packages/descartes/patch.py:65: ShapelyDeprecationWarning: The array interface is deprecated and will no longer work in Shapely 2.0. Convert the '.coords' to a numpy array instead.\n",
      "  for t in polygon])\n",
      "/home/ubuntu/.local/share/virtualenvs/binder-ZEKQRmyT/lib/python3.6/site-packages/descartes/patch.py:64: ShapelyDeprecationWarning: The array interface is deprecated and will no longer work in Shapely 2.0. Convert the '.coords' to a numpy array instead.\n",
      "  [asarray(r)[:, :2] for r in t.interiors])\n",
      "/home/ubuntu/.local/share/virtualenvs/binder-ZEKQRmyT/lib/python3.6/site-packages/geopandas/plotting.py:171: ShapelyDeprecationWarning: The array interface is deprecated and will no longer work in Shapely 2.0. Convert the '.coords' to a numpy array instead.\n",
      "  segments = [np.array(linestring)[:, :2] for linestring in geoms]\n",
      "/home/ubuntu/.local/share/virtualenvs/binder-ZEKQRmyT/lib/python3.6/site-packages/descartes/patch.py:65: ShapelyDeprecationWarning: The array interface is deprecated and will no longer work in Shapely 2.0. Convert the '.coords' to a numpy array instead.\n",
      "  for t in polygon])\n"
     ]
    },
    {
     "data": {
      "image/png": "[encoded data removed]",
      "text/plain": [
       "<Figure size 432x288 with 1 Axes>"
      ]
     },
     "metadata": {
      "needs_background": "light"
     },
     "output_type": "display_data"
    }
   ],
   "source": [
    "base = country_gpd.plot(color='yellow', edgecolor='black', zorder=1)\n",
    "base.set_facecolor('#d7fffe')\n",
    "# Close-up view\n",
    "base.set_xlim(10, 20)\n",
    "base.set_ylim(84, 89)\n",
    "# Global view\n",
    "# base.set_xlim(-180, 180)\n",
    "# base.set_ylim(-90, 90)\n",
    "base.set_xlabel('Longitude (degrees)')\n",
    "base.set_ylabel('Latitude (degrees)')\n",
    "orbit = orbit_gpd.plot(ax=base, color='#06470c', zorder=3)\n",
    "soda = cruise_gpd.plot(ax=orbit, color='red', alpha=0.6, zorder=2)"
   ]
  },
  {
   "cell_type": "code",
   "execution_count": null,
   "metadata": {
    "scrolled": true
   },
   "outputs": [],
   "source": []
  }
 ],
 "metadata": {
  "kernelspec": {
   "display_name": "apache-sedona",
   "language": "python",
   "name": "apache-sedona"
  },
  "language_info": {
   "codemirror_mode": {
    "name": "ipython",
    "version": 3
   },
   "file_extension": ".py",
   "mimetype": "text/x-python",
   "name": "python",
   "nbconvert_exporter": "python",
   "pygments_lexer": "ipython3",
   "version": "3.8.2"
  }
 },
 "nbformat": 4,
 "nbformat_minor": 2
}
