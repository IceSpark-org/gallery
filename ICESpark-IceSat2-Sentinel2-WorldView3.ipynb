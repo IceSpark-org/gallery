{
 "cells": [
  {
   "cell_type": "markdown",
   "metadata": {},
   "source": [
    "# ICESpark Ice Sat 2 Orbit Crossing with Sentinel-2 and WorldView-3 images\n"
   ]
  },
  {
   "cell_type": "code",
   "execution_count": 35,
   "metadata": {
    "scrolled": true
   },
   "outputs": [],
   "source": [
    "import os\n",
    "\n",
    "import geopandas as gpd\n",
    "import matplotlib\n",
    "import matplotlib.pyplot as plt\n",
    "from pyspark.sql import SparkSession\n",
    "from pyspark.sql.types import *\n",
    "\n",
    "from sedona.register import SedonaRegistrator\n",
    "from sedona.utils import SedonaKryoRegistrator, KryoSerializer\n",
    "from sedona.core.formatMapper.shapefileParser import ShapefileReader\n",
    "from sedona.utils.adapter import Adapter"
   ]
  },
  {
   "cell_type": "code",
   "execution_count": 36,
   "metadata": {
    "scrolled": true
   },
   "outputs": [],
   "source": [
    "spark = SparkSession. \\\n",
    "    builder. \\\n",
    "    appName('appName'). \\\n",
    "    master('local[*]'). \\\n",
    "    config(\"spark.serializer\", KryoSerializer.getName). \\\n",
    "    config(\"spark.kryo.registrator\", SedonaKryoRegistrator.getName). \\\n",
    "    config('spark.jars.packages',\n",
    "           'org.apache.sedona:sedona-python-adapter-3.0_2.12:1.2.0-incubating,org.datasyslab:geotools-wrapper:1.1.0-25.2'). \\\n",
    "    getOrCreate()"
   ]
  },
  {
   "cell_type": "code",
   "execution_count": 37,
   "metadata": {
    "scrolled": true
   },
   "outputs": [],
   "source": [
    "SedonaRegistrator.registerAll(spark)\n",
    "sc = spark.sparkContext\n",
    "sc.setSystemProperty(\"sedona.global.charset\", \"utf8\")"
   ]
  },
  {
   "cell_type": "markdown",
   "metadata": {},
   "source": [
    "## Load ICE_SAT2 orbits (size 2.6GB, 13704 orbits) into Spark\n",
    "Files are originally in KML. They are converted to a single WKT file using GDAL ogr2ogr command.\n",
    "\n",
    "Filename example: IS2_RGT_0702_cycle3_14-May-2019.kml.csv"
   ]
  },
  {
   "cell_type": "code",
   "execution_count": 38,
   "metadata": {
    "scrolled": true
   },
   "outputs": [
    {
     "name": "stdout",
     "output_type": "stream",
     "text": [
      "+--------------------+-------+-----------+---------+-----+----+-------------+----------+-------+----------+---------+----+--------------------+\n",
      "|                 WKT|   Name|description|timestamp|begin| end| altitudeMode|tessellate|extrude|visibility|drawOrder|icon|            filename|\n",
      "+--------------------+-------+-----------+---------+-----+----+-------------+----------+-------+----------+---------+----+--------------------+\n",
      "|LINESTRING (-36.7...| RGT 94|       null|     null| null|null|clampToGround|        -1|      0|         1|     null|null|IS2_RGT_0094_cycl...|\n",
      "|LINESTRING (104.2...|RGT 149|       null|     null| null|null|clampToGround|        -1|      0|         1|     null|null|IS2_RGT_0149_cycl...|\n",
      "+--------------------+-------+-----------+---------+-----+----+-------------+----------+-------+----------+---------+----+--------------------+\n",
      "only showing top 2 rows\n",
      "\n",
      "13704\n"
     ]
    }
   ],
   "source": [
    "ice2_df = spark.read.format(\"csv\").\\\n",
    "    option(\"delimiter\", \",\").\\\n",
    "    option(\"header\", \"true\").\\\n",
    "    load(\"data/IS2_RGTs_aggr_data_timestamp-head500csv\").repartition(10)\n",
    "\n",
    "ice2_df.createOrReplaceTempView(\"is2_df_raw\")\n",
    "\n",
    "ice2_df.show(2)\n",
    "\n",
    "print(ice2_df.count())\n"
   ]
  },
  {
   "cell_type": "markdown",
   "metadata": {},
   "source": [
    "## Create Apache Sedona DataFrame"
   ]
  },
  {
   "cell_type": "code",
   "execution_count": 39,
   "metadata": {
    "scrolled": true
   },
   "outputs": [
    {
     "name": "stdout",
     "output_type": "stream",
     "text": [
      "+--------------------+------+-------------+----------+-------+----------+--------------------+\n",
      "|               orbit|  Name| altitudeMode|tessellate|extrude|visibility|            filename|\n",
      "+--------------------+------+-------------+----------+-------+----------+--------------------+\n",
      "|LINESTRING (0.026...|RGT 17|clampToGround|        -1|      0|         1|IS2_RGT_0017_cycl...|\n",
      "|LINESTRING (0.037...|RGT 35|clampToGround|        -1|      0|         1|IS2_RGT_0035_cycl...|\n",
      "+--------------------+------+-------------+----------+-------+----------+--------------------+\n",
      "only showing top 2 rows\n",
      "\n",
      "+---------------------------------------+\n",
      "|filename                               |\n",
      "+---------------------------------------+\n",
      "|IS2_RGT_0097_cycle7_01-Apr-2020.kml.csv|\n",
      "|IS2_RGT_0130_cycle3_06-Apr-2019.kml.csv|\n",
      "+---------------------------------------+\n",
      "only showing top 2 rows\n",
      "\n",
      "13704\n"
     ]
    }
   ],
   "source": [
    "ice2_df = spark.sql(\"select ST_FlipCoordinates(ST_GeomFromWKT(WKT)) as orbit, Name, altitudeMode, tessellate, extrude, visibility, filename from is2_df_raw\").cache()\n",
    "ice2_df.createOrReplaceTempView(\"is2_df\")\n",
    "ice2_df.show(2)\n",
    "ice2_df.select(\"filename\").show(2, truncate = False)\n",
    "print(ice2_df.count())"
   ]
  },
  {
   "cell_type": "markdown",
   "metadata": {},
   "source": [
    "## Operations"
   ]
  },
  {
   "cell_type": "markdown",
   "metadata": {},
   "source": [
    "**Two Sentinel-2 image bounding boxes (lat, lon format)**\n",
    "\n",
    "S-2 image from June 22, 2019:\n",
    "```\n",
    "UL: 82.852919, -63.001439\n",
    "LL: 81.869306, -63.001267\n",
    "UR: 82.785942, -55.145842\n",
    "LR: 81.810456, -56.080844\n",
    "```\n",
    "\n",
    "Polygon format (UL - LL - LR - UR - UL): 82.852919, -63.001439, 81.869306, -63.001267, 81.810456, -56.080844, 82.785942, -55.145842, 82.852919, -63.001439\n",
    "\n",
    "S-2 image from September 3, 2019:\n",
    "```\n",
    "UL: 79.232286, -121.801758\n",
    "LL: 78.251639, -121.405181\n",
    "UR: 79.268856, -116.530467\n",
    "LR: 78.285072, -116.569403\n",
    "```\n",
    "\n",
    "Polygon format (UL - LL - LR - UR - UL): 79.232286, -121.801758, 78.251639, -121.405181, 78.285072, -116.569403, 79.268856, -116.530467, 79.232286, -121.801758\n",
    "\n",
    "**WorldView image bounding boxes (lat, lon format)**\n",
    "\n",
    "WV-3 image from April 10, 2019\n",
    "```\n",
    "UL: 79.76066207, -114.09955772\n",
    "LL: 79.62275657, -114.06853064\n",
    "UR: 79.83858880, -112.31487793\n",
    "LR: 79.69303180, -112.34933739\n",
    "```\n",
    "\n",
    "Polygon format (UL - LL - LR - UR - UL): 79.76066207, -114.09955772, 79.62275657, -114.06853064, 79.69303180, -112.34933739, 79.83858880, -112.31487793, 79.76066207, -114.09955772\n",
    "\n",
    "WV-2 image from April 10, 2019\n",
    "```\n",
    "UL: 80.0576610499, -110.56248745\n",
    "LL: 79.9244458799, -110.56242819\n",
    "UR: 80.044587680, -109.42456569\n",
    "LR: 79.9092631399, -109.42423191\n",
    "```\n",
    "\n",
    "Polygon format (UL - LL - LR - UR - UL): 80.0576610499, -110.56248745, 79.9244458799, -110.56242819, 79.9092631399, -109.42423191, 80.044587680, -109.42456569, 80.0576610499, -110.56248745\n",
    "\n",
    "WV-2 image from June 25, 2020\n",
    "```\n",
    "UL: 84.04474275, -60.80835633\n",
    "LL: 83.90936693, -60.7855143\n",
    "UR: 84.04404486, -59.21133579\n",
    "LR: 83.90966186, -59.23332056\n",
    "```\n",
    "\n",
    "Polygon format (UL - LL - LR - UR - UL): 84.04474275, -60.80835633, 83.90936693, -60.7855143, 83.90966186, -59.23332056, 84.04404486, -59.21133579, 84.04474275, -60.80835633"
   ]
  },
  {
   "cell_type": "markdown",
   "metadata": {},
   "source": [
    "### Check if orbits intersect S-2 and/or WorldView bounding boxes"
   ]
  },
  {
   "cell_type": "code",
   "execution_count": 40,
   "metadata": {
    "scrolled": true
   },
   "outputs": [
    {
     "name": "stdout",
     "output_type": "stream",
     "text": [
      "WorldView A number of crosses:  158\n"
     ]
    }
   ],
   "source": [
    "# modified projection\n",
    "\n",
    "#result_df1 = spark.sql('SELECT * '\n",
    "#                      'FROM is2_df '\n",
    "#                      'WHERE ST_Intersects(orbit, ST_PolygonFromText (\\'82.852919, -63.001439,81.869306, -63.001267, 81.810456, -56.080844, 82.785942, -55.145842, 82.852919, -63.001439\\',\\',\\'))')\n",
    "#result_df1.show(2)\n",
    "#print('Sentinel-2 A number of crosses: ', result_df1.count())\n",
    "\n",
    "#result_df2 = spark.sql('SELECT * '\n",
    "#                      'FROM is2_df '\n",
    "#                      'WHERE ST_Intersects(orbit, ST_PolygonFromText (\\'79.232286, -121.801758, 78.251639, -121.405181, 78.285072, -116.569403, 79.268856, -116.530467, 79.232286, -121.801758\\',\\',\\'))')\n",
    "#print('Sentinel-2 B number of crosses: ', result_df2.count())\n",
    "\n",
    "result_df3 = spark.sql('SELECT * '\n",
    "                      'FROM is2_df '\n",
    "                      'WHERE ST_Intersects(orbit, ST_PolygonFromText (\\'79.76066207, -114.09955772, 79.62275657, -114.06853064, 79.69303180, -112.34933739, 79.83858880, -112.31487793, 79.76066207, -114.09955772\\',\\',\\'))')\n",
    "print('WorldView A number of crosses: ', result_df3.count())\n",
    "\n",
    "#result_df4 = spark.sql('SELECT * '\n",
    "#                      'FROM is2_df '\n",
    "#                      'WHERE ST_Intersects(orbit, ST_PolygonFromText (\\'80.0576610499, -110.56248745, 79.9244458799, -110.56242819, 79.9092631399, -109.42423191, 80.044587680, -109.42456569, 80.0576610499, -110.56248745\\',\\',\\'))')\n",
    "#print('WorldView B number of crosses: ', result_df4.count())\n",
    "\n",
    "#result_df5 = spark.sql('SELECT * '\n",
    "#                      'FROM is2_df '\n",
    "#                      'WHERE ST_Intersects(orbit, ST_PolygonFromText (\\'84.04474275, -60.80835633, 83.90936693, -60.7855143, 83.90966186, -59.23332056, 84.04404486, -59.21133579, 84.04474275, -60.80835633\\',\\',\\'))')\n",
    "#print('WorldView C number of crosses: ', result_df5.count())"
   ]
  },
  {
   "cell_type": "markdown",
   "metadata": {},
   "source": [
    "**Find orbits in Year 2019 in the S-2 A result**"
   ]
  },
  {
   "cell_type": "code",
   "execution_count": 41,
   "metadata": {},
   "outputs": [],
   "source": [
    "#result_df1.createOrReplaceTempView(\"s2_a\")\n",
    "#result_df1 = spark.sql('SELECT * '\n",
    "#                       'FROM s2_a '\n",
    "#                       'WHERE filename LIKE \\'%22-Jun-2019%\\'')\n",
    "#result_df1.select('filename').show(result_df1.count(), truncate = False)"
   ]
  },
  {
   "cell_type": "markdown",
   "metadata": {},
   "source": [
    "### Find orbits in Year 2019 in the S-2 B result"
   ]
  },
  {
   "cell_type": "code",
   "execution_count": 42,
   "metadata": {
    "scrolled": true
   },
   "outputs": [],
   "source": [
    "#result_df2.createOrReplaceTempView(\"s2_b\")\n",
    "#result_df2 = spark.sql('SELECT * '\n",
    "#                       'FROM s2_b '\n",
    "#                       'WHERE filename LIKE \\'%2019%\\'')\n",
    "#result_df2.select('filename').show(result_df2.count(), truncate = False)"
   ]
  },
  {
   "cell_type": "markdown",
   "metadata": {},
   "source": [
    "### Find orbits in Year 2019 in the WorldView A result"
   ]
  },
  {
   "cell_type": "code",
   "execution_count": 43,
   "metadata": {},
   "outputs": [
    {
     "name": "stdout",
     "output_type": "stream",
     "text": [
      "+---------------------------------------+\n",
      "|filename                               |\n",
      "+---------------------------------------+\n",
      "|IS2_RGT_0188_cycle3_10-Apr-2019.kml.csv|\n",
      "+---------------------------------------+\n",
      "\n"
     ]
    }
   ],
   "source": [
    "result_df3.createOrReplaceTempView(\"wv_a\")\n",
    "result_df3 = spark.sql('SELECT * '\n",
    "                       'FROM wv_a '\n",
    "                       'WHERE filename LIKE \\'%10-Apr-2019%\\'')\n",
    "result_df3.select('filename').show(result_df3.count(), truncate = False)"
   ]
  },
  {
   "cell_type": "markdown",
   "metadata": {},
   "source": [
    "### Find orbits in April 2019 in the WorldView B result"
   ]
  },
  {
   "cell_type": "code",
   "execution_count": 11,
   "metadata": {},
   "outputs": [
    {
     "name": "stdout",
     "output_type": "stream",
     "text": [
      "+---------------------------------------+\n",
      "|filename                               |\n",
      "+---------------------------------------+\n",
      "|IS2_RGT_0325_cycle3_19-Apr-2019.kml.csv|\n",
      "|IS2_RGT_0367_cycle3_22-Apr-2019.kml.csv|\n",
      "|IS2_RGT_0425_cycle3_26-Apr-2019.kml.csv|\n",
      "|IS2_RGT_0386_cycle3_23-Apr-2019.kml.csv|\n",
      "+---------------------------------------+\n",
      "\n"
     ]
    }
   ],
   "source": [
    "#result_df4.createOrReplaceTempView(\"wv_b\")\n",
    "#result_df4 = spark.sql('SELECT * '\n",
    "#                       'FROM wv_b '\n",
    "#                       'WHERE filename LIKE \\'%Apr-2019%\\'')\n",
    "#result_df4.select('filename').show(result_df4.count(), truncate = False)"
   ]
  },
  {
   "cell_type": "markdown",
   "metadata": {},
   "source": [
    "## Visualize the query result using GeoPandas"
   ]
  },
  {
   "cell_type": "markdown",
   "metadata": {},
   "source": [
    "### Read a country shapefile as the base map using Sedona"
   ]
  },
  {
   "cell_type": "code",
   "execution_count": 44,
   "metadata": {
    "scrolled": true
   },
   "outputs": [
    {
     "name": "stdout",
     "output_type": "stream",
     "text": [
      "+--------------------+--------+\n",
      "|            geometry| NAME_EN|\n",
      "+--------------------+--------+\n",
      "|POLYGON ((31.2878...|Zimbabwe|\n",
      "|POLYGON ((30.3960...|  Zambia|\n",
      "+--------------------+--------+\n",
      "only showing top 2 rows\n",
      "\n"
     ]
    }
   ],
   "source": [
    "countries = ShapefileReader.readToGeometryRDD(sc, \"data/ne_50m_admin_0_countries_lakes\")\n",
    "countries_df = Adapter.toDf(countries, spark).select(\"geometry\", \"NAME_EN\")\n",
    "countries_df.show(2)"
   ]
  },
  {
   "cell_type": "markdown",
   "metadata": {},
   "source": [
    "**Put S-2 A into a Sedona DF**"
   ]
  },
  {
   "cell_type": "code",
   "execution_count": 13,
   "metadata": {},
   "outputs": [],
   "source": [
    "#s2_a = spark.sql('SELECT ST_FlipCoordinates(ST_PolygonFromText (\\'82.852919, -63.001439, 81.869306, -63.001267, 81.810456, -56.080844, 82.785942, -55.145842, 82.852919, -63.001439\\',\\',\\')) as s2a')\n",
    "#s2_a.show()"
   ]
  },
  {
   "cell_type": "markdown",
   "metadata": {},
   "source": [
    "### Put S-2 A, B, and WorldView into a Sedona DF"
   ]
  },
  {
   "cell_type": "code",
   "execution_count": 45,
   "metadata": {
    "scrolled": false
   },
   "outputs": [],
   "source": [
    "#s2_a = spark.sql('SELECT ST_FlipCoordinates(ST_PolygonFromText (\\'82.852919, -63.001439, 81.869306, -63.001267, 81.810456, -56.080844, 82.785942, -55.145842, 82.852919, -63.001439\\',\\',\\')) as s2a')\n",
    "#s2_b = spark.sql('SELECT ST_FlipCoordinates(ST_PolygonFromText (\\'79.232286, -121.801758, 78.251639, -121.405181, 78.285072, -116.569403, 79.268856, -116.530467, 79.232286, -121.801758\\',\\',\\')) as s2b')\n",
    "wv_a = spark.sql('SELECT ST_FlipCoordinates(ST_PolygonFromText (\\'79.76066207, -114.09955772, 79.62275657, -114.06853064, 79.69303180, -112.34933739, 79.83858880, -112.31487793, 79.76066207, -114.09955772\\',\\',\\')) as wva')\n",
    "#s2_a.show()\n",
    "#s2_b.show()\n",
    "#wv_a.show()"
   ]
  },
  {
   "cell_type": "markdown",
   "metadata": {},
   "source": [
    "### Convert Sedona DataFrame to GeoPandas DataFrame"
   ]
  },
  {
   "cell_type": "code",
   "execution_count": 46,
   "metadata": {
    "scrolled": true
   },
   "outputs": [],
   "source": [
    "country_gpd = gpd.GeoDataFrame(countries_df.toPandas(), geometry=\"geometry\")\n",
    "## Separate lines for each example\n",
    "#s2_gpd = gpd.GeoDataFrame(s2_a.toPandas(), geometry=\"s2a\")\n",
    "#s2_gpd = gpd.GeoDataFrame(s2_b.toPandas(), geometry=\"s2b\")\n",
    "wv_gpd = gpd.GeoDataFrame(wv_a.toPandas(), geometry=\"wva\")\n",
    "#orbit_gpd = gpd.GeoDataFrame(result_df1.selectExpr('ST_FlipCoordinates(orbit) as orbit').toPandas(), geometry=\"orbit\")\n",
    "#orbit_gpd = gpd.GeoDataFrame(result_df2.selectExpr('ST_FlipCoordinates(orbit) as orbit').toPandas(), geometry=\"orbit\")\n",
    "orbit_gpd = gpd.GeoDataFrame(result_df3.selectExpr('ST_FlipCoordinates(orbit) as orbit').toPandas(), geometry=\"orbit\")"
   ]
  },
  {
   "cell_type": "markdown",
   "metadata": {},
   "source": [
    "### Plot the maps"
   ]
  },
  {
   "cell_type": "code",
   "execution_count": 51,
   "metadata": {
    "scrolled": true
   },
   "outputs": [
    {
     "data": {
      "image/png": "[encoded data removed]",
      "text/plain": [
       "<Figure size 432x288 with 1 Axes>"
      ]
     },
     "metadata": {
      "needs_background": "light"
     },
     "output_type": "display_data"
    }
   ],
   "source": [
    "base = country_gpd.plot(color='dimgray', edgecolor='black', zorder=1)\n",
    "base.set_facecolor('#d7fffe')\n",
    "# Sentinel-2 A view\n",
    "#base.set_xlim(-65, -54)\n",
    "#base.set_ylim(80, 85.5)\n",
    "# Sentinel-2 B view\n",
    "#base.set_xlim(-125, -113)\n",
    "#base.set_ylim(72, 80)\n",
    "# WorldView A view\n",
    "base.set_xlim(-115, -111)\n",
    "base.set_ylim(78, 81)\n",
    "# Global view\n",
    "#base.set_xlim(-180, 180)\n",
    "#base.set_ylim(-90, 90)\n",
    "base.set_xlabel('Longitude (degrees)')\n",
    "base.set_ylabel('Latitude (degrees)')\n",
    "orbit = orbit_gpd.plot(ax=base, color='#06470c', linewidth=1.75, label='IS2 RGT 1298 & 1307', zorder=3)\n",
    "#s2 = s2_gpd.plot(ax=orbit, color='red', alpha=0.7, edgecolor='red', linewidth=1.75, zorder=2)\n",
    "wv = wv_gpd.plot(ax=orbit, color='red', alpha=0.7, edgecolor='red', linewidth=1.75, label='WV-2 Image', zorder=2)\n",
    "#plt.legend(loc='upper right', framealpha=1)\n",
    "#plt.title('June 22, 2019 Sentinel-2 and IS-2 crossing')\n",
    "#plt.show()"
   ]
  },
  {
   "cell_type": "code",
   "execution_count": null,
   "metadata": {
    "scrolled": true
   },
   "outputs": [],
   "source": []
  }
 ],
 "metadata": {
  "kernelspec": {
   "display_name": "apache-sedona",
   "language": "python",
   "name": "apache-sedona"
  },
  "language_info": {
   "codemirror_mode": {
    "name": "ipython",
    "version": 3
   },
   "file_extension": ".py",
   "mimetype": "text/x-python",
   "name": "python",
   "nbconvert_exporter": "python",
   "pygments_lexer": "ipython3",
   "version": "3.8.2"
  }
 },
 "nbformat": 4,
 "nbformat_minor": 2
}
