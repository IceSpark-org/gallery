{
 "cells": [
  {
   "cell_type": "markdown",
   "metadata": {},
   "source": [
    "# ICESpark Ice Sat 2 Orbit Crossing SODA sites"
   ]
  },
  {
   "cell_type": "code",
   "execution_count": 1,
   "metadata": {
    "scrolled": true
   },
   "outputs": [],
   "source": [
    "import os\n",
    "\n",
    "import geopandas as gpd\n",
    "from pyspark.sql import SparkSession\n",
    "from pyspark.sql.types import *\n",
    "from pyspark.sql.functions import col\n",
    "\n",
    "from sedona.register import SedonaRegistrator\n",
    "from sedona.utils import SedonaKryoRegistrator, KryoSerializer\n",
    "from sedona.core.formatMapper.shapefileParser import ShapefileReader\n",
    "from sedona.utils.adapter import Adapter"
   ]
  },
  {
   "cell_type": "code",
   "execution_count": 2,
   "metadata": {
    "scrolled": true
   },
   "outputs": [
    {
     "name": "stderr",
     "output_type": "stream",
     "text": [
      "22/04/20 15:17:06 WARN Utils: Your hostname, jia-imac.local resolves to a loopback address: 127.0.0.1; using 10.71.12.51 instead (on interface en0)\n",
      "22/04/20 15:17:06 WARN Utils: Set SPARK_LOCAL_IP if you need to bind to another address\n",
      "WARNING: An illegal reflective access operation has occurred\n",
      "WARNING: Illegal reflective access by org.apache.spark.unsafe.Platform (file:/Users/jiayu/.local/share/virtualenvs/gallery-icespark-yOC315wH/lib/python3.8/site-packages/pyspark/jars/spark-unsafe_2.12-3.1.2.jar) to constructor java.nio.DirectByteBuffer(long,int)\n",
      "WARNING: Please consider reporting this to the maintainers of org.apache.spark.unsafe.Platform\n",
      "WARNING: Use --illegal-access=warn to enable warnings of further illegal reflective access operations\n",
      "WARNING: All illegal access operations will be denied in a future release\n"
     ]
    },
    {
     "name": "stdout",
     "output_type": "stream",
     "text": [
      ":: loading settings :: url = jar:file:/Users/jiayu/.local/share/virtualenvs/gallery-icespark-yOC315wH/lib/python3.8/site-packages/pyspark/jars/ivy-2.4.0.jar!/org/apache/ivy/core/settings/ivysettings.xml\n"
     ]
    },
    {
     "name": "stderr",
     "output_type": "stream",
     "text": [
      "Ivy Default Cache set to: /Users/jiayu/.ivy2/cache\n",
      "The jars for the packages stored in: /Users/jiayu/.ivy2/jars\n",
      "org.apache.sedona#sedona-python-adapter-3.0_2.12 added as a dependency\n",
      "org.datasyslab#geotools-wrapper added as a dependency\n",
      ":: resolving dependencies :: org.apache.spark#spark-submit-parent-8582af09-269d-4883-9639-7a9b0bbe4af4;1.0\n",
      "\tconfs: [default]\n",
      "\tfound org.apache.sedona#sedona-python-adapter-3.0_2.12;1.2.0-incubating in central\n",
      "\tfound org.locationtech.jts#jts-core;1.18.0 in local-m2-cache\n",
      "\tfound org.wololo#jts2geojson;0.16.1 in local-m2-cache\n",
      "\tfound com.fasterxml.jackson.core#jackson-databind;2.12.2 in local-m2-cache\n",
      "\tfound com.fasterxml.jackson.core#jackson-annotations;2.12.2 in local-m2-cache\n",
      "\tfound com.fasterxml.jackson.core#jackson-core;2.12.2 in local-m2-cache\n",
      "\tfound org.apache.sedona#sedona-core-3.0_2.12;1.2.0-incubating in local-m2-cache\n",
      "\tfound org.scala-lang.modules#scala-collection-compat_2.12;2.5.0 in local-m2-cache\n",
      "\tfound org.apache.sedona#sedona-sql-3.0_2.12;1.2.0-incubating in local-m2-cache\n",
      "\tfound org.datasyslab#geotools-wrapper;1.1.0-25.2 in local-m2-cache\n",
      "downloading https://repo1.maven.org/maven2/org/apache/sedona/sedona-python-adapter-3.0_2.12/1.2.0-incubating/sedona-python-adapter-3.0_2.12-1.2.0-incubating.jar ...\n",
      "\t[SUCCESSFUL ] org.apache.sedona#sedona-python-adapter-3.0_2.12;1.2.0-incubating!sedona-python-adapter-3.0_2.12.jar (98ms)\n",
      "downloading file:/Users/jiayu/.m2/repository/org/apache/sedona/sedona-core-3.0_2.12/1.2.0-incubating/sedona-core-3.0_2.12-1.2.0-incubating.jar ...\n",
      "\t[SUCCESSFUL ] org.apache.sedona#sedona-core-3.0_2.12;1.2.0-incubating!sedona-core-3.0_2.12.jar (3ms)\n",
      "downloading file:/Users/jiayu/.m2/repository/org/apache/sedona/sedona-sql-3.0_2.12/1.2.0-incubating/sedona-sql-3.0_2.12-1.2.0-incubating.jar ...\n",
      "\t[SUCCESSFUL ] org.apache.sedona#sedona-sql-3.0_2.12;1.2.0-incubating!sedona-sql-3.0_2.12.jar (3ms)\n",
      "downloading file:/Users/jiayu/.m2/repository/org/scala-lang/modules/scala-collection-compat_2.12/2.5.0/scala-collection-compat_2.12-2.5.0.jar ...\n",
      "\t[SUCCESSFUL ] org.scala-lang.modules#scala-collection-compat_2.12;2.5.0!scala-collection-compat_2.12.jar (2ms)\n",
      ":: resolution report :: resolve 1741ms :: artifacts dl 110ms\n",
      "\t:: modules in use:\n",
      "\tcom.fasterxml.jackson.core#jackson-annotations;2.12.2 from local-m2-cache in [default]\n",
      "\tcom.fasterxml.jackson.core#jackson-core;2.12.2 from local-m2-cache in [default]\n",
      "\tcom.fasterxml.jackson.core#jackson-databind;2.12.2 from local-m2-cache in [default]\n",
      "\torg.apache.sedona#sedona-core-3.0_2.12;1.2.0-incubating from local-m2-cache in [default]\n",
      "\torg.apache.sedona#sedona-python-adapter-3.0_2.12;1.2.0-incubating from central in [default]\n",
      "\torg.apache.sedona#sedona-sql-3.0_2.12;1.2.0-incubating from local-m2-cache in [default]\n",
      "\torg.datasyslab#geotools-wrapper;1.1.0-25.2 from local-m2-cache in [default]\n",
      "\torg.locationtech.jts#jts-core;1.18.0 from local-m2-cache in [default]\n",
      "\torg.scala-lang.modules#scala-collection-compat_2.12;2.5.0 from local-m2-cache in [default]\n",
      "\torg.wololo#jts2geojson;0.16.1 from local-m2-cache in [default]\n",
      "\t:: evicted modules:\n",
      "\torg.locationtech.jts#jts-core;1.18.1 by [org.locationtech.jts#jts-core;1.18.0] in [default]\n",
      "\t---------------------------------------------------------------------\n",
      "\t|                  |            modules            ||   artifacts   |\n",
      "\t|       conf       | number| search|dwnlded|evicted|| number|dwnlded|\n",
      "\t---------------------------------------------------------------------\n",
      "\t|      default     |   11  |   4   |   4   |   1   ||   10  |   4   |\n",
      "\t---------------------------------------------------------------------\n",
      ":: retrieving :: org.apache.spark#spark-submit-parent-8582af09-269d-4883-9639-7a9b0bbe4af4\n",
      "\tconfs: [default]\n",
      "\t4 artifacts copied, 6 already retrieved (4207kB/9ms)\n",
      "22/04/20 15:17:08 WARN NativeCodeLoader: Unable to load native-hadoop library for your platform... using builtin-java classes where applicable\n",
      "Using Spark's default log4j profile: org/apache/spark/log4j-defaults.properties\n",
      "Setting default log level to \"WARN\".\n",
      "To adjust logging level use sc.setLogLevel(newLevel). For SparkR, use setLogLevel(newLevel).\n"
     ]
    }
   ],
   "source": [
    "spark = SparkSession. \\\n",
    "    builder. \\\n",
    "    appName('appName'). \\\n",
    "    master('local[*]'). \\\n",
    "    config(\"spark.serializer\", KryoSerializer.getName). \\\n",
    "    config(\"spark.kryo.registrator\", SedonaKryoRegistrator.getName). \\\n",
    "    config('spark.jars.packages',\n",
    "           'org.apache.sedona:sedona-python-adapter-3.0_2.12:1.2.0-incubating,org.datasyslab:geotools-wrapper:1.1.0-25.2'). \\\n",
    "    getOrCreate()"
   ]
  },
  {
   "cell_type": "code",
   "execution_count": 3,
   "metadata": {
    "scrolled": true
   },
   "outputs": [
    {
     "name": "stderr",
     "output_type": "stream",
     "text": [
      "\r",
      "[Stage 0:>                                                          (0 + 1) / 1]\r",
      "\r",
      "                                                                                \r"
     ]
    }
   ],
   "source": [
    "SedonaRegistrator.registerAll(spark)\n",
    "sc = spark.sparkContext\n",
    "sc.setSystemProperty(\"sedona.global.charset\", \"utf8\")"
   ]
  },
  {
   "cell_type": "markdown",
   "metadata": {},
   "source": [
    "## Load ICE_SAT2 orbits (size 2.6GB, 13704 orbits) into Spark\n",
    "Files are originally in KML. They are converted to a single WKT file using GDAL ogr2ogr command.\n",
    "\n",
    "Filename example: IS2_RGT_0702_cycle3_14-May-2019.kml.csv"
   ]
  },
  {
   "cell_type": "code",
   "execution_count": 4,
   "metadata": {
    "scrolled": true
   },
   "outputs": [
    {
     "name": "stderr",
     "output_type": "stream",
     "text": [
      "                                                                                \r"
     ]
    },
    {
     "name": "stdout",
     "output_type": "stream",
     "text": [
      "+--------------------+-----+-----------+---------+-----+----+-------------+----------+-------+----------+---------+----+--------------------+\n",
      "|                 WKT| Name|description|timestamp|begin| end| altitudeMode|tessellate|extrude|visibility|drawOrder|icon|            filename|\n",
      "+--------------------+-----+-----------+---------+-----+----+-------------+----------+-------+----------+---------+----+--------------------+\n",
      "|LINESTRING (-47.2...|RGT 3|       null|     null| null|null|clampToGround|        -1|      0|         1|     null|null|IS2_RGT_0003_cycl...|\n",
      "|LINESTRING (-23.7...|RGT 2|       null|     null| null|null|clampToGround|        -1|      0|         1|     null|null|IS2_RGT_0002_cycl...|\n",
      "+--------------------+-----+-----------+---------+-----+----+-------------+----------+-------+----------+---------+----+--------------------+\n",
      "only showing top 2 rows\n",
      "\n",
      "999\n"
     ]
    }
   ],
   "source": [
    "ice2_df = spark.read.format(\"csv\").\\\n",
    "    option(\"delimiter\", \",\").\\\n",
    "    option(\"header\", \"true\").\\\n",
    "    load(\"data/IS2_RGTs_aggr_data_timestamp-head1000.csv\").repartition(10)\n",
    "\n",
    "ice2_df.createOrReplaceTempView(\"is2_df_raw\")\n",
    "\n",
    "ice2_df.show(2)\n",
    "\n",
    "print(ice2_df.count())\n"
   ]
  },
  {
   "cell_type": "markdown",
   "metadata": {},
   "source": [
    "## Create Apache Sedona DataFrame"
   ]
  },
  {
   "cell_type": "code",
   "execution_count": 5,
   "metadata": {
    "scrolled": true
   },
   "outputs": [
    {
     "name": "stderr",
     "output_type": "stream",
     "text": [
      "\r",
      "[Stage 9:>                                                          (0 + 1) / 1]\r",
      "\r",
      "                                                                                \r"
     ]
    },
    {
     "name": "stdout",
     "output_type": "stream",
     "text": [
      "+--------------------+-----+-------------+----------+-------+----------+--------------------+\n",
      "|               orbit| Name| altitudeMode|tessellate|extrude|visibility|            filename|\n",
      "+--------------------+-----+-------------+----------+-------+----------+--------------------+\n",
      "|LINESTRING (0.052...|RGT 3|clampToGround|        -1|      0|         1|IS2_RGT_0003_cycl...|\n",
      "|LINESTRING (0.031...|RGT 4|clampToGround|        -1|      0|         1|IS2_RGT_0004_cycl...|\n",
      "+--------------------+-----+-------------+----------+-------+----------+--------------------+\n",
      "only showing top 2 rows\n",
      "\n",
      "+---------------------------------------+\n",
      "|filename                               |\n",
      "+---------------------------------------+\n",
      "|IS2_RGT_0003_cycle2_28-Dec-2018.kml.csv|\n",
      "|IS2_RGT_0004_cycle8_25-Jun-2020.kml.csv|\n",
      "+---------------------------------------+\n",
      "only showing top 2 rows\n",
      "\n"
     ]
    },
    {
     "name": "stderr",
     "output_type": "stream",
     "text": [
      "\r",
      "[Stage 13:=====>                                                   (1 + 9) / 10]\r"
     ]
    },
    {
     "name": "stdout",
     "output_type": "stream",
     "text": [
      "999\n"
     ]
    },
    {
     "name": "stderr",
     "output_type": "stream",
     "text": [
      "\r",
      "                                                                                \r"
     ]
    }
   ],
   "source": [
    "ice2_df = spark.sql(\"select ST_FlipCoordinates(ST_GeomFromWKT(WKT)) as orbit, Name, altitudeMode, tessellate, extrude, visibility, filename from is2_df_raw\").cache()\n",
    "ice2_df.createOrReplaceTempView(\"is2_df\")\n",
    "ice2_df.show(2)\n",
    "ice2_df.select(\"filename\").show(2, truncate = False)\n",
    "print(ice2_df.count())"
   ]
  },
  {
   "cell_type": "markdown",
   "metadata": {},
   "source": [
    "## Operations"
   ]
  },
  {
   "cell_type": "markdown",
   "metadata": {},
   "source": [
    "Three points\n",
    "\n",
    "SODA-A: (73.00043, -148.33627)\n",
    "\n",
    "SODA-B: (75.46388, -145.63685)\n",
    "\n",
    "SODA-C: (77.73677, -139.14153)"
   ]
  },
  {
   "cell_type": "markdown",
   "metadata": {},
   "source": [
    "### Method 1: Distance between Orbit and SODA < 50KM using ST_Distance\n",
    "\n",
    "#### IceSat2 data needs to be converted from WGS84 (epsg:4326) CRS to meter-based epsg:4087 (WGS 84 / World Equidistant Cylindrical) using Sedona's ST_Transform"
   ]
  },
  {
   "cell_type": "code",
   "execution_count": 6,
   "metadata": {
    "scrolled": true
   },
   "outputs": [
    {
     "name": "stderr",
     "output_type": "stream",
     "text": [
      "                                                                                \r"
     ]
    },
    {
     "name": "stdout",
     "output_type": "stream",
     "text": [
      "+--------------------+------+-------------+----------+-------+----------+--------------------+\n",
      "|               orbit|  Name| altitudeMode|tessellate|extrude|visibility|            filename|\n",
      "+--------------------+------+-------------+----------+-------+----------+--------------------+\n",
      "|LINESTRING (0.005...|RGT 83|clampToGround|        -1|      0|         1|IS2_RGT_0083_cycl...|\n",
      "|LINESTRING (0.005...|    83|clampToGround|        -1|      0|         1|IS2_RGT_0083_02-J...|\n",
      "+--------------------+------+-------------+----------+-------+----------+--------------------+\n",
      "only showing top 2 rows\n",
      "\n",
      "SODA-A number of crosses:  10\n",
      "SODA-B number of crosses:  10\n",
      "SODA-C number of crosses:  20\n"
     ]
    }
   ],
   "source": [
    "# modified projection\n",
    "\n",
    "result_df1 = spark.sql('SELECT * '\n",
    "                     'FROM is2_df '\n",
    "                     'WHERE ST_Distance(ST_Transform(ST_POINT (73.00043,-148.33627), \\'epsg:4326\\',\\'epsg:4087\\'), ST_Transform(orbit, \\'epsg:4326\\',\\'epsg:4087\\')) < 50000')\n",
    "result_df1.show(2)\n",
    "print('SODA-A number of crosses: ', result_df1.count())\n",
    "result_df2 = spark.sql('SELECT * '\n",
    "                     'FROM is2_df '\n",
    "                     'WHERE ST_Distance(ST_Transform(ST_POINT (75.46388,-145.63685), \\'epsg:4326\\',\\'epsg:4087\\'), ST_Transform(orbit, \\'epsg:4326\\',\\'epsg:4087\\')) < 50000')\n",
    "print('SODA-B number of crosses: ', result_df2.count())\n",
    "\n",
    "result_df3 = spark.sql('SELECT * '\n",
    "                     'FROM is2_df '\n",
    "                     'WHERE ST_Distance(ST_Transform(ST_POINT (77.73677, -139.14153), \\'epsg:4326\\',\\'epsg:4087\\'), ST_Transform(orbit, \\'epsg:4326\\',\\'epsg:4087\\')) < 50000')\n",
    "print('SODA-C number of crosses: ', result_df3.count())"
   ]
  },
  {
   "cell_type": "markdown",
   "metadata": {},
   "source": [
    "### Method 2: Orbit within a 50KM circle of SODA, using ST_Buffer\n",
    "#### IceSat2 data needs to be converted from WGS84 (epsg:4326) CRS to meter-based epsg:4087 (WGS 84 / World Equidistant Cylindrical) using Sedona's ST_Transform"
   ]
  },
  {
   "cell_type": "code",
   "execution_count": 18,
   "metadata": {
    "scrolled": false
   },
   "outputs": [
    {
     "name": "stdout",
     "output_type": "stream",
     "text": [
      "+-----+----+------------+----------+-------+----------+--------+\n",
      "|orbit|Name|altitudeMode|tessellate|extrude|visibility|filename|\n",
      "+-----+----+------------+----------+-------+----------+--------+\n",
      "+-----+----+------------+----------+-------+----------+--------+\n",
      "\n",
      "SODA-A crosses:  0\n",
      "SODA-B crosses:  0\n",
      "SODA-C crosses:  0\n"
     ]
    }
   ],
   "source": [
    "result_df1 = spark.sql('SELECT * '\n",
    "                     'FROM is2_df '\n",
    "                     'WHERE ST_Intersects(ST_Buffer(ST_Transform(ST_POINT (73.00043,-148.33627), \\'epsg:4326\\',\\'epsg:4087\\'), 50000), ST_Transform(orbit, \\'epsg:4326\\',\\'epsg:4087\\'))')\n",
    "result_df1.show(2)\n",
    "print('SODA-A crosses: ', result_df1.count())\n",
    "\n",
    "result_df2 = spark.sql('SELECT * '\n",
    "                     'FROM is2_df '\n",
    "                     'WHERE ST_Intersects(ST_Buffer(ST_Transform(ST_POINT (75.46388,-145.63685), \\'epsg:4326\\',\\'epsg:4087\\'), 50000), ST_Transform(orbit, \\'epsg:4326\\',\\'epsg:4087\\'))')\n",
    "print('SODA-B crosses: ', result_df2.count())\n",
    "\n",
    "result_df3 = spark.sql('SELECT * '\n",
    "                     'FROM is2_df '\n",
    "                     'WHERE ST_Intersects(ST_Buffer(ST_Transform(ST_POINT (77.73677, -139.14153), \\'epsg:4326\\',\\'epsg:4087\\'), 50000), ST_Transform(orbit, \\'epsg:4326\\',\\'epsg:4087\\'))')\n",
    "print('SODA-C crosses: ', result_df3.count())\n"
   ]
  },
  {
   "cell_type": "markdown",
   "metadata": {},
   "source": [
    "### Find orbits in Year 2019 in the SODA-C result"
   ]
  },
  {
   "cell_type": "code",
   "execution_count": 16,
   "metadata": {
    "scrolled": false
   },
   "outputs": [
    {
     "name": "stdout",
     "output_type": "stream",
     "text": [
      "+--------+\n",
      "|filename|\n",
      "+--------+\n",
      "+--------+\n",
      "\n"
     ]
    }
   ],
   "source": [
    "result_df3.createOrReplaceTempView(\"is2_df\")\n",
    "result_df3 = spark.sql('SELECT * '\n",
    "                       'FROM is2_df '\n",
    "                       'WHERE filename LIKE \\'%May-2017%\\'')\n",
    "result_df3_sorted = result_df3.sort(col('filename').asc())\n",
    "result_df3_sorted.select('filename').show(truncate = False)\n",
    "#result_df1_sorted.select('filename').show(result_df1.count(), truncate = False)"
   ]
  },
  {
   "cell_type": "markdown",
   "metadata": {},
   "source": [
    "## Visualize the query result using GeoPandas"
   ]
  },
  {
   "cell_type": "markdown",
   "metadata": {},
   "source": [
    "### Read a country shapefile as the base map using Sedona"
   ]
  },
  {
   "cell_type": "code",
   "execution_count": 10,
   "metadata": {
    "scrolled": true
   },
   "outputs": [
    {
     "name": "stderr",
     "output_type": "stream",
     "text": [
      "22/04/20 15:18:15 WARN package: Truncated the string representation of a plan since it was too large. This behavior can be adjusted by setting 'spark.sql.debug.maxToStringFields'.\n"
     ]
    },
    {
     "name": "stdout",
     "output_type": "stream",
     "text": [
      "+--------------------+--------------------+\n",
      "|            geometry|             NAME_EN|\n",
      "+--------------------+--------------------+\n",
      "|MULTIPOLYGON (((3...|Zimbabwe         ...|\n",
      "|MULTIPOLYGON (((3...|Zambia           ...|\n",
      "+--------------------+--------------------+\n",
      "only showing top 2 rows\n",
      "\n"
     ]
    }
   ],
   "source": [
    "countries = ShapefileReader.readToGeometryRDD(sc, \"data/ne_50m_admin_0_countries_lakes\")\n",
    "countries_df = Adapter.toDf(countries, spark).select(\"geometry\", \"NAME_EN\")\n",
    "countries_df.show(2)"
   ]
  },
  {
   "cell_type": "markdown",
   "metadata": {},
   "source": [
    "### Put SODA-C into a Sedona DF and convert it to 50KM circle"
   ]
  },
  {
   "cell_type": "code",
   "execution_count": 11,
   "metadata": {
    "scrolled": true
   },
   "outputs": [
    {
     "name": "stdout",
     "output_type": "stream",
     "text": [
      "+--------------------+\n",
      "|              is2_df|\n",
      "+--------------------+\n",
      "|POINT (-1804587.9...|\n",
      "|POINT (-1555620.5...|\n",
      "|POINT (-1329850.8...|\n",
      "+--------------------+\n",
      "\n"
     ]
    },
    {
     "name": "stderr",
     "output_type": "stream",
     "text": [
      "\r",
      "[Stage 46:>                                                         (0 + 1) / 1]\r",
      "\r",
      "                                                                                \r"
     ]
    }
   ],
   "source": [
    "soda_list = [\"POINT (73.00043 -148.33627)\", \"POINT (75.46388 -145.63685)\", \"POINT (77.73677 -139.14153)\"]\n",
    "# soda_list = [\"POINT (77.73677 -139.14153)\"]\n",
    "soda_df = spark.createDataFrame(soda_list,StringType())\n",
    "# Convert to epsg:4087 meter-based CRS\n",
    "soda_df = soda_df.selectExpr('ST_Transform(ST_GeomFromWKT(value), \\'epsg:4326\\',\\'epsg:3413\\') as is2_df')\n",
    "soda_df.show()\n",
    "# Create circles using 50KM\n",
    "soda_df = soda_df.selectExpr('ST_Buffer(is2_df, 50000) as is2_df')\n",
    "# Convert to epsg:4326 WGS84\n",
    "soda_df = soda_df.selectExpr('ST_FlipCoordinates(ST_Transform(is2_df, \\'epsg:3413\\',\\'epsg:4326\\')) as is2_df')\n",
    "# soda_df.show()"
   ]
  },
  {
   "cell_type": "markdown",
   "metadata": {},
   "source": [
    "### Convert Sedona DataFrame to GeoPandas DataFrame"
   ]
  },
  {
   "cell_type": "code",
   "execution_count": 12,
   "metadata": {
    "scrolled": true
   },
   "outputs": [
    {
     "name": "stderr",
     "output_type": "stream",
     "text": [
      "/Users/jiayu/.local/share/virtualenvs/gallery-icespark-yOC315wH/lib/python3.8/site-packages/geopandas/array.py:85: ShapelyDeprecationWarning: __len__ for multi-part geometries is deprecated and will be removed in Shapely 2.0. Check the length of the `geoms` property instead to get the  number of parts of a multi-part geometry.\n",
      "  aout[:] = out\n"
     ]
    }
   ],
   "source": [
    "country_gpd = gpd.GeoDataFrame(countries_df.toPandas(), geometry=\"geometry\")\n",
    "soda_gpd = gpd.GeoDataFrame(soda_df.toPandas(), geometry=\"is2_df\")\n",
    "orbit_gpd = gpd.GeoDataFrame(result_df3.selectExpr('ST_FlipCoordinates(orbit) as orbit').toPandas(), geometry=\"orbit\")"
   ]
  },
  {
   "cell_type": "markdown",
   "metadata": {},
   "source": [
    "### Plot the maps"
   ]
  },
  {
   "cell_type": "code",
   "execution_count": 15,
   "metadata": {
    "scrolled": true
   },
   "outputs": [
    {
     "name": "stderr",
     "output_type": "stream",
     "text": [
      "/Users/jiayu/.local/share/virtualenvs/gallery-icespark-yOC315wH/lib/python3.8/site-packages/geopandas/plotting.py:38: ShapelyDeprecationWarning: Iteration over multi-part geometries is deprecated and will be removed in Shapely 2.0. Use the `geoms` property to access the constituent parts of a multi-part geometry.\n",
      "  for poly in geom:\n",
      "/Users/jiayu/.local/share/virtualenvs/gallery-icespark-yOC315wH/lib/python3.8/site-packages/descartes/patch.py:62: ShapelyDeprecationWarning: The array interface is deprecated and will no longer work in Shapely 2.0. Convert the '.coords' to a numpy array instead.\n",
      "  vertices = concatenate([\n",
      "/Users/jiayu/.local/share/virtualenvs/gallery-icespark-yOC315wH/lib/python3.8/site-packages/descartes/patch.py:64: ShapelyDeprecationWarning: The array interface is deprecated and will no longer work in Shapely 2.0. Convert the '.coords' to a numpy array instead.\n",
      "  [asarray(r)[:, :2] for r in t.interiors])\n",
      "/Users/jiayu/.local/share/virtualenvs/gallery-icespark-yOC315wH/lib/python3.8/site-packages/geopandas/plotting.py:484: UserWarning: The GeoDataFrame you are attempting to plot is empty. Nothing has been displayed.\n",
      "  warnings.warn(\n",
      "/Users/jiayu/.local/share/virtualenvs/gallery-icespark-yOC315wH/lib/python3.8/site-packages/descartes/patch.py:62: ShapelyDeprecationWarning: The array interface is deprecated and will no longer work in Shapely 2.0. Convert the '.coords' to a numpy array instead.\n",
      "  vertices = concatenate([\n"
     ]
    },
    {
     "data": {
      "image/png": "[encoded data removed]",
      "text/plain": [
       "<Figure size 432x288 with 1 Axes>"
      ]
     },
     "metadata": {
      "needs_background": "light"
     },
     "output_type": "display_data"
    }
   ],
   "source": [
    "base = country_gpd.plot(color='yellow', edgecolor='black', zorder=1)\n",
    "base.set_facecolor('#d7fffe')\n",
    "# SODA-A Close-up view\n",
    "#base.set_xlim(-151, -146)\n",
    "#base.set_ylim(71, 75)\n",
    "# SODA-B Close-up view\n",
    "#base.set_xlim(-147.5, -143.5)\n",
    "#base.set_ylim(74, 77)\n",
    "# SODA-C Close-up view\n",
    "# base.set_xlim(-145, -135)\n",
    "# base.set_ylim(75, 80)\n",
    "# SODA-ABC Close-up view\n",
    "# base.set_xlim(-160, -130)\n",
    "# base.set_ylim(60, 90)\n",
    "# Global view\n",
    "base.set_xlim(-180, 180)\n",
    "base.set_ylim(-90, 90)\n",
    "base.set_xlabel('Longitude (degrees)')\n",
    "base.set_ylabel('Latitude (degrees)')\n",
    "orbit = orbit_gpd.plot(ax=base, color='#06470c', zorder=3)\n",
    "soda = soda_gpd.plot(ax=orbit, color='red', alpha=0.6, zorder=2)"
   ]
  },
  {
   "cell_type": "code",
   "execution_count": null,
   "metadata": {
    "scrolled": true
   },
   "outputs": [],
   "source": []
  }
 ],
 "metadata": {
  "kernelspec": {
   "display_name": "apache-sedona",
   "language": "python",
   "name": "apache-sedona"
  },
  "language_info": {
   "codemirror_mode": {
    "name": "ipython",
    "version": 3
   },
   "file_extension": ".py",
   "mimetype": "text/x-python",
   "name": "python",
   "nbconvert_exporter": "python",
   "pygments_lexer": "ipython3",
   "version": "3.8.2"
  }
 },
 "nbformat": 4,
 "nbformat_minor": 2
}
